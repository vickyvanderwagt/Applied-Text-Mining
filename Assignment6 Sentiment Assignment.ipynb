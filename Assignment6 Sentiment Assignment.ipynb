{
 "cells": [
  {
   "cell_type": "markdown",
   "id": "531f96da-37a9-470b-b977-a504b30b95bc",
   "metadata": {},
   "source": [
    "#### Vicky van der Wagt"
   ]
  },
  {
   "cell_type": "markdown",
   "id": "7f79baf9",
   "metadata": {},
   "source": [
    "# ADS 509 Sentiment Assignment\n",
    "\n",
    "This notebook holds the Sentiment Assignment for Module 6 in ADS 509, Applied Text Mining. Work through this notebook, writing code and answering questions where required. \n",
    "\n",
    "In a previous assignment you put together Twitter data and lyrics data on two artists. In this assignment we apply sentiment analysis to those data sets. If, for some reason, you did not complete that previous assignment, data to use for this assignment can be found in the assignment materials section of Blackboard. \n"
   ]
  },
  {
   "cell_type": "markdown",
   "id": "aae8e2e1",
   "metadata": {},
   "source": [
    "## General Assignment Instructions\n",
    "\n",
    "These instructions are included in every assignment, to remind you of the coding standards for the class. Feel free to delete this cell after reading it. \n",
    "\n",
    "One sign of mature code is conforming to a style guide. We recommend the [Google Python Style Guide](https://google.github.io/styleguide/pyguide.html). If you use a different style guide, please include a cell with a link. \n",
    "\n",
    "Your code should be relatively easy-to-read, sensibly commented, and clean. Writing code is a messy process, so please be sure to edit your final submission. Remove any cells that are not needed or parts of cells that contain unnecessary code. Remove inessential `import` statements and make sure that all such statements are moved into the designated cell. \n",
    "\n",
    "Make use of non-code cells for written commentary. These cells should be grammatical and clearly written. In some of these cells you will have questions to answer. The questions will be marked by a \"Q:\" and will have a corresponding \"A:\" spot for you. *Make sure to answer every question marked with a `Q:` for full credit.* \n"
   ]
  },
  {
   "cell_type": "code",
   "execution_count": 1,
   "id": "e2d096b7",
   "metadata": {},
   "outputs": [],
   "source": [
    "import os\n",
    "import regex as re\n",
    "import emoji\n",
    "import pandas as pd\n",
    "import numpy as np\n",
    "\n",
    "from collections import Counter, defaultdict\n",
    "from string import punctuation\n",
    "\n",
    "from nltk.corpus import stopwords\n",
    "\n",
    "sw = stopwords.words(\"english\")"
   ]
  },
  {
   "cell_type": "code",
   "execution_count": 2,
   "id": "6b555ab2",
   "metadata": {},
   "outputs": [],
   "source": [
    "# Add any additional import statements you need here\n",
    "\n",
    "from string import punctuation\n",
    "import matplotlib.pyplot as plt\n"
   ]
  },
  {
   "cell_type": "code",
   "execution_count": 3,
   "id": "923b5a86",
   "metadata": {},
   "outputs": [],
   "source": [
    "# change `data_location` to the location of the folder on your machine.\n",
    "data_location = \"/Users/vicky/Documents/GitHub/ADS509-Assignment2.2/M1 Results/\"\n",
    "lyrics_path = \"/Users/vicky/Documents/GitHub/ADS509-Assignment2.2/M1 Results/\"\n",
    "\n",
    "# These subfolders should still work if you correctly stored the \n",
    "# data from the Module 1 assignment\n",
    "twitter_folder = \"twitter/\"\n",
    "lyrics_folder = \"lyrics/\"\n",
    "\n",
    "positive_words_file = \"positive-words.txt\"\n",
    "negative_words_file = \"negative-words.txt\"\n",
    "tidy_text_file = \"tidytext_sentiments.txt\""
   ]
  },
  {
   "cell_type": "markdown",
   "id": "9d3bf93e",
   "metadata": {},
   "source": [
    "## Data Input\n",
    "\n",
    "Now read in each of the corpora. For the lyrics data, it may be convenient to store the entire contents of the file to make it easier to inspect the titles individually, as you'll do in the last part of the assignment. In the solution, I stored the lyrics data in a dictionary with two dimensions of keys: artist and song. The value was the file contents. A Pandas data frame would work equally well. \n",
    "\n",
    "For the Twitter data, we only need the description field for this assignment. Feel free all the descriptions read it into a data structure. In the solution, I stored the descriptions as a dictionary of lists, with the key being the artist. \n",
    "\n",
    "\n"
   ]
  },
  {
   "cell_type": "code",
   "execution_count": 5,
   "id": "a7c8c03f-87a0-480b-8400-233d2c587495",
   "metadata": {},
   "outputs": [
    {
     "data": {
      "text/html": [
       "<div>\n",
       "<style scoped>\n",
       "    .dataframe tbody tr th:only-of-type {\n",
       "        vertical-align: middle;\n",
       "    }\n",
       "\n",
       "    .dataframe tbody tr th {\n",
       "        vertical-align: top;\n",
       "    }\n",
       "\n",
       "    .dataframe thead th {\n",
       "        text-align: right;\n",
       "    }\n",
       "</style>\n",
       "<table border=\"1\" class=\"dataframe\">\n",
       "  <thead>\n",
       "    <tr style=\"text-align: right;\">\n",
       "      <th></th>\n",
       "      <th>artist</th>\n",
       "      <th>song</th>\n",
       "      <th>lyrics</th>\n",
       "    </tr>\n",
       "  </thead>\n",
       "  <tbody>\n",
       "    <tr>\n",
       "      <th>0</th>\n",
       "      <td>robyn</td>\n",
       "      <td>Include Me Out</td>\n",
       "      <td>It is really very simple\\nJust a single pulse,...</td>\n",
       "    </tr>\n",
       "    <tr>\n",
       "      <th>1</th>\n",
       "      <td>robyn</td>\n",
       "      <td>Electric</td>\n",
       "      <td>Electric...\\n\\nIt's electric\\nIt's a natural h...</td>\n",
       "    </tr>\n",
       "    <tr>\n",
       "      <th>2</th>\n",
       "      <td>robyn</td>\n",
       "      <td>Beach 2K20</td>\n",
       "      <td>(So you wanna go out?\\nHow you gonna get there...</td>\n",
       "    </tr>\n",
       "    <tr>\n",
       "      <th>3</th>\n",
       "      <td>robyn</td>\n",
       "      <td>Love Kills</td>\n",
       "      <td>If you're looking for love\\nGet a heart made o...</td>\n",
       "    </tr>\n",
       "    <tr>\n",
       "      <th>4</th>\n",
       "      <td>robyn</td>\n",
       "      <td>Time Machine</td>\n",
       "      <td>Hey, what did I do?\\nCan't believe the fit I j...</td>\n",
       "    </tr>\n",
       "  </tbody>\n",
       "</table>\n",
       "</div>"
      ],
      "text/plain": [
       "  artist            song                                             lyrics\n",
       "0  robyn  Include Me Out  It is really very simple\\nJust a single pulse,...\n",
       "1  robyn        Electric  Electric...\\n\\nIt's electric\\nIt's a natural h...\n",
       "2  robyn      Beach 2K20  (So you wanna go out?\\nHow you gonna get there...\n",
       "3  robyn      Love Kills  If you're looking for love\\nGet a heart made o...\n",
       "4  robyn    Time Machine  Hey, what did I do?\\nCan't believe the fit I j..."
      ]
     },
     "execution_count": 5,
     "metadata": {},
     "output_type": "execute_result"
    }
   ],
   "source": [
    "# Read in the lyrics data\n",
    "\n",
    "lyrics_path = os.path.join(data_location, lyrics_folder)\n",
    "\n",
    "# initialize lists\n",
    "artist_list = []\n",
    "song_list = []\n",
    "lyrics_list = []\n",
    "\n",
    "# for every artist folder in the path...\n",
    "for artist in os.listdir(lyrics_path):\n",
    "    # find the artist path\n",
    "    artist_path = os.path.join(lyrics_path, artist)\n",
    "    if os.path.isdir(artist_path):\n",
    "        # for each song in the artist path...\n",
    "        for song_file in os.listdir(artist_path):\n",
    "            # if .txt file...\n",
    "            if song_file.endswith('.txt'):\n",
    "                # generate song path\n",
    "                song_path = os.path.join(artist_path, song_file)\n",
    "                # read lyrics\n",
    "                with open(song_path, 'r', encoding='utf-8') as file:\n",
    "                    song_lyrics = file.read().strip() \n",
    "                    # exclude lyrics until after 4th newline character (consistent formatting in files)\n",
    "                    newline_count = 0\n",
    "                    start_index = 0\n",
    "                    for i, char in enumerate(song_lyrics):\n",
    "                        if char == '\\n':\n",
    "                            newline_count += 1\n",
    "                            if newline_count == 4:\n",
    "                                start_index = i + 1\n",
    "                                break\n",
    "                    # extract song title from the lyrics (between the quotes)\n",
    "                    song_title = None\n",
    "                    quote_start = song_lyrics.find('\"')\n",
    "                    if quote_start != -1:\n",
    "                        quote_end = song_lyrics.find('\"', quote_start + 1)\n",
    "                        if quote_end != -1:\n",
    "                            song_title = song_lyrics[quote_start + 1:quote_end].strip()\n",
    "                    # append data to the lists\n",
    "                    artist_list.append(artist)\n",
    "                    song_list.append(song_title)\n",
    "                    # don't include lyrics until after the 4th newline character in the file\n",
    "                    lyrics_list.append(song_lyrics[start_index:].strip()) \n",
    "\n",
    "# generate dataframe\n",
    "lyrics_df = pd.DataFrame({\n",
    "    'artist': artist_list,\n",
    "    'song': song_list,\n",
    "    'lyrics': lyrics_list\n",
    "})\n",
    "\n",
    "lyrics_df.head()"
   ]
  },
  {
   "cell_type": "code",
   "execution_count": 6,
   "id": "282ecada-291d-4dd4-9237-f7a0931a45d9",
   "metadata": {},
   "outputs": [],
   "source": [
    "# Read in the twitter data\n",
    "\n",
    "# twitter data path\n",
    "twitter_path = os.path.join(data_location, twitter_folder)\n",
    "\n",
    "# intiailize lists\n",
    "artist_list = []\n",
    "description_list = []\n",
    "\n",
    "for data_file in os.listdir(os.path.join(data_location, twitter_folder)):\n",
    "    if \"data\" in data_file:\n",
    "        # Extract artist name from file name\n",
    "        artist_name = data_file.split(\"_\")[0]\n",
    "        with open(os.path.join(data_location, twitter_folder, data_file), 'r', encoding='utf-8') as file:\n",
    "            next(file)  # Skip header line\n",
    "            for line in file:\n",
    "                columns = line.strip().split('\\t')\n",
    "                if len(columns) >= 7:\n",
    "                    description_list.append(columns[6])\n",
    "                    artist_list.append(artist_name)\n",
    "\n",
    "\n",
    "# create the dataframe\n",
    "twitter_df = pd.DataFrame({\n",
    "    'artist': artist_list,\n",
    "    'description': description_list\n",
    "})\n",
    "\n",
    "# replace arist name\n",
    "twitter_df['artist'] = twitter_df['artist'].replace('robynkonichiwa', 'robyn')"
   ]
  },
  {
   "cell_type": "code",
   "execution_count": 7,
   "id": "af9e7a4b",
   "metadata": {},
   "outputs": [],
   "source": [
    "# Read in the positive and negative words and the\n",
    "# tidytext sentiment. Store these so that the positive\n",
    "# words are associated with a score of +1 and negative words\n",
    "# are associated with a score of -1. You can use a dataframe or a \n",
    "# dictionary for this.\n",
    "\n",
    "def read_words(file):\n",
    "    '''This function reads words from a file, after the first blank line'''\n",
    "    with open(file, 'r', encoding='utf-8') as f:\n",
    "        # make a list of all lines\n",
    "        lines = f.readlines()\n",
    "        # find location (index) of the first blank line\n",
    "        first_blank_index = next(idx for idx, line in enumerate(lines) if line.strip() == '')\n",
    "        # extract the words after the first blank line (blank index location +1)\n",
    "        words = [line.strip() for line in lines[first_blank_index + 1:] if line.strip()]\n",
    "    return words\n",
    "\n",
    "#read in the positive and negative words\n",
    "positive_words = read_words(positive_words_file)\n",
    "negative_words = read_words(negative_words_file)\n",
    "\n",
    "#combine the positive and negative words\n",
    "all_words = positive_words + negative_words\n",
    "\n",
    "#make a dataframe containing all the words\n",
    "sentiment_scores = pd.DataFrame({'word':all_words})\n",
    "\n",
    "#assign scores\n",
    "sentiment_scores.loc[sentiment_scores['word'].isin(positive_words), 'score'] = 1\n",
    "sentiment_scores.loc[sentiment_scores['word'].isin(negative_words), 'score'] = -1\n",
    "\n",
    "#convert score to integer\n",
    "sentiment_scores['score'] = sentiment_scores['score'].astype(int)\n"
   ]
  },
  {
   "cell_type": "markdown",
   "id": "6a5f3b12",
   "metadata": {},
   "source": [
    "## Sentiment Analysis on Songs\n",
    "\n",
    "In this section, score the sentiment for all the songs for both artists in your data set. Score the sentiment by manually calculating the sentiment using the combined lexicons provided in this repository. \n",
    "\n",
    "After you have calculated these sentiments, answer the questions at the end of this section.\n"
   ]
  },
  {
   "cell_type": "markdown",
   "id": "5aacd464-0f00-4fa0-bc4b-0128ecb63db9",
   "metadata": {},
   "source": [
    "### Preprocessing\n",
    "\n",
    "Not removing stopwords since we will just check for the positive/negative words. Will just tokenize & remove punctuation to generate word tokens."
   ]
  },
  {
   "cell_type": "code",
   "execution_count": 8,
   "id": "9f99a593-16af-45a6-a57e-46064152e981",
   "metadata": {},
   "outputs": [],
   "source": [
    "tw_punct = punctuation\n",
    " \n",
    "def remove_punctuation(text, punct_set=tw_punct) : \n",
    "    \n",
    "    return(\"\".join([ch for ch in text if ch not in punct_set]))\n",
    "\n",
    "def tokenize(text) : \n",
    "    \"\"\" Splitting on whitespace rather than the book's tokenize function. That \n",
    "        function will drop tokens like '#hashtag' or '2A', which we need for Twitter. \"\"\"\n",
    "    \n",
    "    text = text.split()\n",
    "    return(text)\n",
    "    \n",
    "def prepare(text, pipeline) : \n",
    "    tokens = str(text)\n",
    "\n",
    "    for transform in pipeline : \n",
    "        tokens = transform(tokens)\n",
    "        \n",
    "    return(tokens)\n",
    "\n",
    "preprocessing_pipeline = [str.lower, remove_punctuation, tokenize]\n",
    "\n",
    "lyrics_df[\"tokens\"] = lyrics_df[\"lyrics\"].apply(prepare,pipeline=preprocessing_pipeline)\n",
    "twitter_df[\"tokens\"] = twitter_df[\"description\"].apply(prepare,pipeline=preprocessing_pipeline)\n"
   ]
  },
  {
   "cell_type": "code",
   "execution_count": 9,
   "id": "e9d1c0a2-1ff2-403e-9a76-ee6d132bd2b3",
   "metadata": {},
   "outputs": [
    {
     "data": {
      "text/html": [
       "<div>\n",
       "<style scoped>\n",
       "    .dataframe tbody tr th:only-of-type {\n",
       "        vertical-align: middle;\n",
       "    }\n",
       "\n",
       "    .dataframe tbody tr th {\n",
       "        vertical-align: top;\n",
       "    }\n",
       "\n",
       "    .dataframe thead th {\n",
       "        text-align: right;\n",
       "    }\n",
       "</style>\n",
       "<table border=\"1\" class=\"dataframe\">\n",
       "  <thead>\n",
       "    <tr style=\"text-align: right;\">\n",
       "      <th></th>\n",
       "      <th>artist</th>\n",
       "      <th>song</th>\n",
       "      <th>lyrics</th>\n",
       "      <th>tokens</th>\n",
       "      <th>sentiment_score</th>\n",
       "    </tr>\n",
       "  </thead>\n",
       "  <tbody>\n",
       "    <tr>\n",
       "      <th>0</th>\n",
       "      <td>robyn</td>\n",
       "      <td>Include Me Out</td>\n",
       "      <td>It is really very simple\\nJust a single pulse,...</td>\n",
       "      <td>[it, is, really, very, simple, just, a, single...</td>\n",
       "      <td>-3</td>\n",
       "    </tr>\n",
       "    <tr>\n",
       "      <th>1</th>\n",
       "      <td>robyn</td>\n",
       "      <td>Electric</td>\n",
       "      <td>Electric...\\n\\nIt's electric\\nIt's a natural h...</td>\n",
       "      <td>[electric, its, electric, its, a, natural, hig...</td>\n",
       "      <td>-6</td>\n",
       "    </tr>\n",
       "    <tr>\n",
       "      <th>2</th>\n",
       "      <td>robyn</td>\n",
       "      <td>Beach 2K20</td>\n",
       "      <td>(So you wanna go out?\\nHow you gonna get there...</td>\n",
       "      <td>[so, you, wanna, go, out, how, you, gonna, get...</td>\n",
       "      <td>20</td>\n",
       "    </tr>\n",
       "    <tr>\n",
       "      <th>3</th>\n",
       "      <td>robyn</td>\n",
       "      <td>Love Kills</td>\n",
       "      <td>If you're looking for love\\nGet a heart made o...</td>\n",
       "      <td>[if, youre, looking, for, love, get, a, heart,...</td>\n",
       "      <td>-23</td>\n",
       "    </tr>\n",
       "    <tr>\n",
       "      <th>4</th>\n",
       "      <td>robyn</td>\n",
       "      <td>Time Machine</td>\n",
       "      <td>Hey, what did I do?\\nCan't believe the fit I j...</td>\n",
       "      <td>[hey, what, did, i, do, cant, believe, the, fi...</td>\n",
       "      <td>-5</td>\n",
       "    </tr>\n",
       "  </tbody>\n",
       "</table>\n",
       "</div>"
      ],
      "text/plain": [
       "  artist            song                                             lyrics  \\\n",
       "0  robyn  Include Me Out  It is really very simple\\nJust a single pulse,...   \n",
       "1  robyn        Electric  Electric...\\n\\nIt's electric\\nIt's a natural h...   \n",
       "2  robyn      Beach 2K20  (So you wanna go out?\\nHow you gonna get there...   \n",
       "3  robyn      Love Kills  If you're looking for love\\nGet a heart made o...   \n",
       "4  robyn    Time Machine  Hey, what did I do?\\nCan't believe the fit I j...   \n",
       "\n",
       "                                              tokens  sentiment_score  \n",
       "0  [it, is, really, very, simple, just, a, single...               -3  \n",
       "1  [electric, its, electric, its, a, natural, hig...               -6  \n",
       "2  [so, you, wanna, go, out, how, you, gonna, get...               20  \n",
       "3  [if, youre, looking, for, love, get, a, heart,...              -23  \n",
       "4  [hey, what, did, i, do, cant, believe, the, fi...               -5  "
      ]
     },
     "execution_count": 9,
     "metadata": {},
     "output_type": "execute_result"
    }
   ],
   "source": [
    "def calculate_sentiment(tokens):\n",
    "    '''This function returns the sentiment score for each record'''\n",
    "    score = 0\n",
    "    for token in tokens:\n",
    "        if token in sentiment_scores['word'].values:\n",
    "            score += sentiment_scores.loc[sentiment_scores['word'] == token, 'score'].values[0]\n",
    "    return score\n",
    "\n",
    "lyrics_df['sentiment_score'] = lyrics_df['tokens'].apply(calculate_sentiment)\n",
    "\n",
    "lyrics_df.head()"
   ]
  },
  {
   "cell_type": "markdown",
   "id": "f62d75c2-a515-4d2a-b892-aa1fd85063be",
   "metadata": {},
   "source": [
    "### Questions\n"
   ]
  },
  {
   "cell_type": "markdown",
   "id": "ba6f2257-c9db-47e6-8b60-971de088ed02",
   "metadata": {},
   "source": [
    "**Q: Overall, which artist has the higher average sentiment per song?**\n",
    "\n",
    "A: Overall, Cher has the highest average sentiment score (3.42), compared to Robyn (2.56)."
   ]
  },
  {
   "cell_type": "code",
   "execution_count": 10,
   "id": "664f8d8f",
   "metadata": {},
   "outputs": [
    {
     "data": {
      "text/html": [
       "<div>\n",
       "<style scoped>\n",
       "    .dataframe tbody tr th:only-of-type {\n",
       "        vertical-align: middle;\n",
       "    }\n",
       "\n",
       "    .dataframe tbody tr th {\n",
       "        vertical-align: top;\n",
       "    }\n",
       "\n",
       "    .dataframe thead th {\n",
       "        text-align: right;\n",
       "    }\n",
       "</style>\n",
       "<table border=\"1\" class=\"dataframe\">\n",
       "  <thead>\n",
       "    <tr style=\"text-align: right;\">\n",
       "      <th></th>\n",
       "      <th>artist</th>\n",
       "      <th>sentiment_score</th>\n",
       "    </tr>\n",
       "  </thead>\n",
       "  <tbody>\n",
       "    <tr>\n",
       "      <th>0</th>\n",
       "      <td>cher</td>\n",
       "      <td>3.424051</td>\n",
       "    </tr>\n",
       "    <tr>\n",
       "      <th>1</th>\n",
       "      <td>robyn</td>\n",
       "      <td>2.567308</td>\n",
       "    </tr>\n",
       "  </tbody>\n",
       "</table>\n",
       "</div>"
      ],
      "text/plain": [
       "  artist  sentiment_score\n",
       "0   cher         3.424051\n",
       "1  robyn         2.567308"
      ]
     },
     "execution_count": 10,
     "metadata": {},
     "output_type": "execute_result"
    }
   ],
   "source": [
    "# your code here\n",
    "average_sentiment = lyrics_df.groupby('artist')['sentiment_score'].mean().reset_index()\n",
    "average_sentiment"
   ]
  },
  {
   "cell_type": "markdown",
   "id": "ffa3a437-d948-4728-9a76-e8fd32be8207",
   "metadata": {},
   "source": [
    "**Q: For your first artist, what are the three songs that have the highest and lowest sentiments? Print the lyrics of those songs to the screen. What do you think is driving the sentiment score?**\n",
    "\n",
    "A: For Cher, the 3 songs with the highest sentiment scores are:\n",
    "1. Perfection\n",
    "2. My Love\n",
    "3. Love and Understanding\n",
    "\n",
    "I believe the factors driving the high sentiment scores are the repeated mentions of positive words like 'Love' and 'Perfection'.  \n",
    "\n",
    "The 3 Cher songs with the lowest sentiment scores are:\n",
    "1. I walk on Guilded Splinters\n",
    "2. Outrageous\n",
    "3. When you walk away\n",
    "\n",
    "I think the presence of many words with negative connotations such as 'Outrageous', 'misfortune', 'poison', 'lazy', 'enemies', etc. are driving the low sentiment score. There are many instances in which these words are repeated many times, and each instance causes the sentiment score to drop."
   ]
  },
  {
   "cell_type": "code",
   "execution_count": 11,
   "id": "a89a3596-01aa-4b39-b330-cbd73a1917d4",
   "metadata": {},
   "outputs": [
    {
     "name": "stdout",
     "output_type": "stream",
     "text": [
      "Song: Perfection\n",
      "Song: My Love\n",
      "Song: Love And Understanding\n"
     ]
    }
   ],
   "source": [
    "cher_songs = lyrics_df[lyrics_df['artist'] == 'cher']\n",
    "highest_sentiments = cher_songs.sort_values(by='sentiment_score', ascending=False).head(3)\n",
    "lowest_sentiments = cher_songs.sort_values(by='sentiment_score').head(3)\n",
    "\n",
    "for index, song in highest_sentiments.iterrows():\n",
    "    print(f\"Song: {song['song']}\")\n",
    "    '''Commented out lyrics after analysis to shorten output'''\n",
    "   # print(f\"Lyrics:\\n{song['lyrics']}\\n\")"
   ]
  },
  {
   "cell_type": "code",
   "execution_count": 12,
   "id": "fa2d0f7e-5cb4-4a79-9f42-7c72ff0d9a65",
   "metadata": {},
   "outputs": [
    {
     "name": "stdout",
     "output_type": "stream",
     "text": [
      "Song: I Walk On Guilded Splinters\n",
      "Song: Outrageous\n",
      "Song: When You Walk Away\n"
     ]
    }
   ],
   "source": [
    "for index, song in lowest_sentiments.iterrows():\n",
    "    print(f\"Song: {song['song']}\")\n",
    "    '''Commented out lyrics after analysis to shorten output'''\n",
    "    #print(f\"Lyrics:\\n{song['lyrics']}\\n\")"
   ]
  },
  {
   "cell_type": "markdown",
   "id": "eba28190-b49a-4f52-8705-95178ceee12f",
   "metadata": {},
   "source": [
    "**Q: For your second artist, what are the three songs that have the highest and lowest sentiments? Print the lyrics of those songs to the screen. What do you think is driving the sentiment score?**\n",
    "\n",
    "A: For Robyn, the 3 songs with the highest sentiments are:\n",
    "1. Love is Free\n",
    "2. Indestructible\n",
    "3. U Should Know Better.\n",
    "\n",
    "Similar to the songs with the highest sentiments by Cher, I believe the frequent occurence of the word 'Love' in these songs is contributing to the high score. Additionally there are many instances of other words wtih positive sentiments such as 'free' and 'light.' The song 'U Should Know Better' doesn't seem very positive, but the frequency of the positive word 'better' is likely driving up the score.\n",
    "\n",
    "The 3 songs with the lowest sentiments are:\n",
    "1. Don't Fucking Tell Me What to Do\n",
    "2. Criminal Intent\n",
    "3. Love Kills\n",
    "\n",
    "The 3 songs with the lowest sentiment contain many instances of 'kills' or 'killing', which have negative sentiment scores. Other words with negative intent such as 'criminal', 'lewd', 'penalty', and 'wreck' are also often found in these 3 songs."
   ]
  },
  {
   "cell_type": "code",
   "execution_count": 13,
   "id": "5a269ea5-f911-47e0-b308-8cdbcca1bc79",
   "metadata": {},
   "outputs": [
    {
     "name": "stdout",
     "output_type": "stream",
     "text": [
      "Song: Love Is Free\n",
      "Song: Indestructible\n",
      "Song: U Should Know Better\n"
     ]
    }
   ],
   "source": [
    "robyn_songs = lyrics_df[lyrics_df['artist'] == 'robyn']\n",
    "\n",
    "highest_sentiments = robyn_songs.sort_values(by='sentiment_score', ascending=False).head(3)\n",
    "lowest_sentiments = robyn_songs.sort_values(by='sentiment_score')\n",
    "lowest_sentiments = lowest_sentiments.drop_duplicates(subset=['song']).head(3)\n",
    "\n",
    "for index, song in highest_sentiments.iterrows():\n",
    "    print(f\"Song: {song['song']}\")\n",
    "    '''Commented out lyrics after analysis to shorten output'''\n",
    "    #print(f\"Lyrics:\\n{song['lyrics']}\\n\")\n"
   ]
  },
  {
   "cell_type": "code",
   "execution_count": 14,
   "id": "9c4e847b-1155-411a-bf8c-a6bcca3d7908",
   "metadata": {},
   "outputs": [
    {
     "name": "stdout",
     "output_type": "stream",
     "text": [
      "Song: Don't Fucking Tell Me What To Do\n",
      "Song: Criminal Intent\n",
      "Song: Love Kills\n"
     ]
    }
   ],
   "source": [
    "for index, song in lowest_sentiments.iterrows():\n",
    "    print(f\"Song: {song['song']}\")\n",
    "    '''Commented out lyrics after analysis to shorten output'''\n",
    "    #print(f\"Lyrics:\\n{song['lyrics']}\\n\")"
   ]
  },
  {
   "cell_type": "markdown",
   "id": "6004a27d-cf31-40f1-9de5-81ec2c745de5",
   "metadata": {},
   "source": [
    "\n",
    "**Q: Plot the distributions of the sentiment scores for both artists. You can use `seaborn` to plot densities or plot histograms in matplotlib.**\n"
   ]
  },
  {
   "cell_type": "code",
   "execution_count": 15,
   "id": "f5ddb823-4600-4e12-be1b-e18047f754e0",
   "metadata": {},
   "outputs": [
    {
     "data": {
      "image/png": "[encoded data removed]",
      "text/plain": [
       "<Figure size 1000x600 with 1 Axes>"
      ]
     },
     "metadata": {},
     "output_type": "display_data"
    }
   ],
   "source": [
    "cher_scores = cher_songs['sentiment_score']\n",
    "robyn_scores = robyn_songs['sentiment_score']\n",
    "plt.figure(figsize=(10, 6))\n",
    "\n",
    "# Plot histograms\n",
    "plt.hist(cher_scores, bins=10, alpha=0.5, label='cher', density=True)\n",
    "plt.hist(robyn_scores, bins=10, alpha=0.5, label='robyn', density=True)\n",
    "\n",
    "# Add labels and title\n",
    "plt.title('Histogram of Sentiment Scores')\n",
    "plt.xlabel('Sentiment Score')\n",
    "plt.ylabel('Density')\n",
    "\n",
    "# Show the plot\n",
    "plt.legend()\n",
    "plt.show()"
   ]
  },
  {
   "cell_type": "markdown",
   "id": "b3fe644d",
   "metadata": {},
   "source": [
    "## Sentiment Analysis on Twitter Descriptions\n",
    "\n",
    "In this section, define two sets of emojis you designate as positive and negative. Make sure to have at least 10 emojis per set. You can learn about the most popular emojis on Twitter at [the emojitracker](https://emojitracker.com/). \n",
    "\n",
    "Associate your positive emojis with a score of +1, negative with -1. Score the average sentiment of your two artists based on the Twitter descriptions of their followers. The average sentiment can just be the total score divided by number of followers. You do not need to calculate sentiment on non-emoji content for this section."
   ]
  },
  {
   "cell_type": "code",
   "execution_count": 16,
   "id": "1a5c1d25",
   "metadata": {},
   "outputs": [],
   "source": [
    "# your code here\n",
    "\n",
    "positive_emojis = ['💕', '❤️', '😍', '😘', '😃', '👍', '🙌', '😎', '😊', '💜','💚','💗','🧡','💛','💙', '💞','💘']\n",
    "negative_emojis = ['😭', '😖', '😡', '🥲','👿','🚫','☁️','🤒','💣','🥶', '🙁','😳','🥱','☠️','🧟‍♂️', '💔', '❤️‍🩹']\n",
    "\n",
    "def calculate_sentiment(text):\n",
    "    score = 0\n",
    "    # use un tokenized description so we can analyze every character (emojis are one character so this is ok)\n",
    "    tokens = list(text)  \n",
    "    for token in tokens:\n",
    "        if token in positive_emojis:\n",
    "            score += 1\n",
    "        elif token in negative_emojis:\n",
    "            score -= 1\n",
    "    return score\n",
    "\n",
    "twitter_df['sentiment_score'] = twitter_df['description'].apply(calculate_sentiment)"
   ]
  },
  {
   "cell_type": "markdown",
   "id": "59bfe9e7-bbd4-404c-b0fa-1de12e034f4a",
   "metadata": {},
   "source": [
    "**Q: What is the average sentiment of your two artists?**\n",
    "\n",
    "A: The average sentiment for Cher is .05, while the average sentiment for Robyn is .02. The average sentiment is positive, and Cher followers, similarly to Cher song lyrics, have a high average sentiment in their tweets."
   ]
  },
  {
   "cell_type": "code",
   "execution_count": 17,
   "id": "b722f160-a10c-4ffe-abdb-1fb0b5103faa",
   "metadata": {},
   "outputs": [
    {
     "data": {
      "text/html": [
       "<div>\n",
       "<style scoped>\n",
       "    .dataframe tbody tr th:only-of-type {\n",
       "        vertical-align: middle;\n",
       "    }\n",
       "\n",
       "    .dataframe tbody tr th {\n",
       "        vertical-align: top;\n",
       "    }\n",
       "\n",
       "    .dataframe thead th {\n",
       "        text-align: right;\n",
       "    }\n",
       "</style>\n",
       "<table border=\"1\" class=\"dataframe\">\n",
       "  <thead>\n",
       "    <tr style=\"text-align: right;\">\n",
       "      <th></th>\n",
       "      <th>artist</th>\n",
       "      <th>sentiment_score</th>\n",
       "    </tr>\n",
       "  </thead>\n",
       "  <tbody>\n",
       "    <tr>\n",
       "      <th>0</th>\n",
       "      <td>cher</td>\n",
       "      <td>0.050778</td>\n",
       "    </tr>\n",
       "    <tr>\n",
       "      <th>1</th>\n",
       "      <td>robyn</td>\n",
       "      <td>0.023517</td>\n",
       "    </tr>\n",
       "  </tbody>\n",
       "</table>\n",
       "</div>"
      ],
      "text/plain": [
       "  artist  sentiment_score\n",
       "0   cher         0.050778\n",
       "1  robyn         0.023517"
      ]
     },
     "execution_count": 17,
     "metadata": {},
     "output_type": "execute_result"
    }
   ],
   "source": [
    "average_sentiment = twitter_df.groupby('artist')['sentiment_score'].mean().reset_index()\n",
    "average_sentiment"
   ]
  },
  {
   "cell_type": "markdown",
   "id": "6a3272d8-16b6-4643-bdcd-94c89adafc87",
   "metadata": {},
   "source": [
    "**Q: Which positive emoji is the most popular for each artist? Which negative emoji?**\n",
    "\n",
    "A: \n",
    "\n",
    "**Cher Followers**\n",
    "\n",
    "The most common positive emoji used by Cher followers is: 💙\n",
    "\n",
    "The most common negative emoji used by Cher followers is: 🚫\n",
    "\n",
    "**Robyn Followers**\n",
    "The most common positive emoji used by Robyn followers is: 💙\n",
    "\n",
    "The most common negative emoji used by Robyn followers is: 💔"
   ]
  },
  {
   "cell_type": "code",
   "execution_count": 18,
   "id": "99bf8a29-9ec2-46fa-a54d-0b4ebcffb7dd",
   "metadata": {},
   "outputs": [
    {
     "name": "stdout",
     "output_type": "stream",
     "text": [
      "Top 3 most popular positive emojis (Cher Followers):\n",
      "💙: 21379 occurrences\n",
      "💜: 16550 occurrences\n",
      "💕: 11141 occurrences\n",
      "\n",
      "Top 3 most popular negative emojis (Cher Followers):\n",
      "🚫: 3240 occurrences\n",
      "💔: 1611 occurrences\n",
      "😭: 730 occurrences\n",
      "\n",
      "\n",
      "Top 3 most popular positive emojis (Robyn Followers):\n",
      "💙: 809 occurrences\n",
      "💜: 739 occurrences\n",
      "💛: 481 occurrences\n",
      "\n",
      "Top 3 most popular negative emojis (Robyn Followers):\n",
      "💔: 60 occurrences\n",
      "🚫: 55 occurrences\n",
      "😭: 41 occurrences\n"
     ]
    }
   ],
   "source": [
    "cher_tweets = twitter_df[twitter_df['artist'] == 'cher']\n",
    "robyn_tweets = twitter_df[twitter_df['artist']=='robyn']\n",
    "\n",
    "positive_emoji_cher_counter = Counter()\n",
    "negative_emoji_cher_counter = Counter()\n",
    "positive_emoji_robyn_counter = Counter()\n",
    "negative_emoji_robyn_counter = Counter()\n",
    "\n",
    "# count\n",
    "for desc in cher_tweets['description']:\n",
    "    # count frequency of positive emojis in each description\n",
    "    positive_emoji_cher_counter.update([char for char in desc if char in positive_emojis])\n",
    "\n",
    "for desc in cher_tweets['description']:\n",
    "    # count frequency of negative emojis in each description\n",
    "    negative_emoji_cher_counter.update([char for char in desc if char in negative_emojis])\n",
    "\n",
    "top_positive_emojis_cher = positive_emoji_cher_counter.most_common(3)\n",
    "top_negative_emojis_cher = negative_emoji_cher_counter.most_common(3)\n",
    "\n",
    "for desc in robyn_tweets['description']:\n",
    "    # count frequency of positive emojis in each description\n",
    "    positive_emoji_robyn_counter.update([char for char in desc if char in positive_emojis])\n",
    "\n",
    "for desc in robyn_tweets['description']:\n",
    "    # count frequency of negative emojis in each description\n",
    "    negative_emoji_robyn_counter.update([char for char in desc if char in negative_emojis])\n",
    "\n",
    "top_positive_emojis_robyn = positive_emoji_robyn_counter.most_common(3)\n",
    "top_negative_emojis_robyn = negative_emoji_robyn_counter.most_common(3)\n",
    "\n",
    "#printing results\n",
    "print(\"Top 3 most popular positive emojis (Cher Followers):\")\n",
    "for emoji, count in top_positive_emojis_cher:\n",
    "    print(f\"{emoji}: {count} occurrences\")\n",
    "\n",
    "print(\"\\nTop 3 most popular negative emojis (Cher Followers):\")\n",
    "for emoji, count in top_negative_emojis_cher:\n",
    "    print(f\"{emoji}: {count} occurrences\")\n",
    "\n",
    "print(\"\\n\\nTop 3 most popular positive emojis (Robyn Followers):\")\n",
    "for emoji, count in top_positive_emojis_robyn:\n",
    "    print(f\"{emoji}: {count} occurrences\")\n",
    "\n",
    "print(\"\\nTop 3 most popular negative emojis (Robyn Followers):\")\n",
    "for emoji, count in top_negative_emojis_robyn:\n",
    "    print(f\"{emoji}: {count} occurrences\")"
   ]
  }
 ],
 "metadata": {
  "kernelspec": {
   "display_name": "Python 3 (ipykernel)",
   "language": "python",
   "name": "python3"
  },
  "language_info": {
   "codemirror_mode": {
    "name": "ipython",
    "version": 3
   },
   "file_extension": ".py",
   "mimetype": "text/x-python",
   "name": "python",
   "nbconvert_exporter": "python",
   "pygments_lexer": "ipython3",
   "version": "3.8.8"
  }
 },
 "nbformat": 4,
 "nbformat_minor": 5
}
