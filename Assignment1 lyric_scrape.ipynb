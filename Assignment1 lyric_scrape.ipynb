{
 "cells": [
  {
   "cell_type": "markdown",
   "id": "37425486",
   "metadata": {},
   "source": [
    "#### Vicky van der Wagt"
   ]
  },
  {
   "cell_type": "markdown",
   "id": "95952cac",
   "metadata": {},
   "source": [
    "# ADS 509 Module 1: APIs and Web Scraping\n",
    "\n",
    "This notebook has two parts. In the first part, you will scrape lyrics from AZLyrics.com. In the second part, you'll run code that verifies the completeness of your data pull. \n",
    "\n",
    "For this assignment you have chosen two musical artists who have at least 20 songs with lyrics on AZLyrics.com. We start with pulling some information and analyzing them.\n"
   ]
  },
  {
   "cell_type": "markdown",
   "id": "069b7ae8",
   "metadata": {},
   "source": [
    "## General Assignment Instructions\n",
    "\n",
    "These instructions are included in every assignment, to remind you of the coding standards for the class. Feel free to delete this cell after reading it. \n",
    "\n",
    "One sign of mature code is conforming to a style guide. We recommend the [Google Python Style Guide](https://google.github.io/styleguide/pyguide.html). If you use a different style guide, please include a cell with a link. \n",
    "\n",
    "Your code should be relatively easy-to-read, sensibly commented, and clean. Writing code is a messy process, so please be sure to edit your final submission. Remove any cells that are not needed or parts of cells that contain unnecessary code. Remove inessential `import` statements and make sure that all such statements are moved into the designated cell. \n",
    "\n",
    "Make use of non-code cells for written commentary. These cells should be grammatical and clearly written. \n",
    "In some of these cells you will have questions to answer. \n",
    "The questions will be marked by a \"Q:\" and will have a corresponding \"A:\" spot for you. \n",
    "*Make sure to answer every question marked with a `Q:` for full credit.* \n"
   ]
  },
  {
   "cell_type": "markdown",
   "id": "91c8969e",
   "metadata": {},
   "source": [
    "# Importing Libraries"
   ]
  },
  {
   "cell_type": "code",
   "execution_count": 10,
   "id": "185076b0",
   "metadata": {},
   "outputs": [],
   "source": [
    "import os\n",
    "import datetime\n",
    "import re\n",
    "\n",
    "# for the lyrics scrape section\n",
    "import requests\n",
    "import time\n",
    "from bs4 import BeautifulSoup\n",
    "from collections import defaultdict, Counter\n",
    "import random"
   ]
  },
  {
   "cell_type": "code",
   "execution_count": 11,
   "id": "a47e2d5f",
   "metadata": {},
   "outputs": [],
   "source": [
    "# Use this cell for any import statements you add\n",
    "\n",
    "#for removing folders and contents\n",
    "import shutil"
   ]
  },
  {
   "cell_type": "markdown",
   "id": "45c13af3",
   "metadata": {},
   "source": [
    "---\n",
    "\n",
    "# Lyrics Scrape\n",
    "\n",
    "This section asks you to pull data by scraping www.AZLyrics.com. In the notebooks where you do that work you are asked to store the data in specific ways. "
   ]
  },
  {
   "cell_type": "code",
   "execution_count": 12,
   "id": "5bd7df77",
   "metadata": {},
   "outputs": [],
   "source": [
    "artists = {'kacey musgraves':\"https://www.azlyrics.com/k/kaceymusgraves.html\",\n",
    "           'sabrina carpenter':\"https://www.azlyrics.com/s/sabrinacarpenter.html\"} \n",
    "# we'll use this dictionary to hold both the artist name and link on AZlyrics"
   ]
  },
  {
   "cell_type": "markdown",
   "id": "c236c99b",
   "metadata": {},
   "source": [
    "## A Note on Rate Limiting\n",
    "\n",
    "The lyrics site, www.azlyrics.com, does not have an explicit maximum on number of requests in any one time, but in our testing it appears that too many requests in too short a time will cause the site to stop returning lyrics pages. (Entertainingly, the page that gets returned seems to only have the song title to [a Tom Jones song](https://www.azlyrics.com/lyrics/tomjones/itsnotunusual.html).) \n",
    "\n",
    "Whenever you call `requests.get` to retrieve a page, put a `time.sleep(5 + 10*random.random())` on the next line. This will help you not to get blocked. If you _do_ get blocked, which you can identify if the returned pages are not correct, just request a lyrics page through your browser. You'll be asked to perform a CAPTCHA and then your requests should start working again. \n",
    "\n",
    "## Part 1: Finding Links to Songs Lyrics\n",
    "\n",
    "That general artist page has a list of all songs for that artist with links to the individual song pages. \n",
    "\n",
    "Q: Take a look at the `robots.txt` page on www.azlyrics.com. (You can read more about these pages [here](https://developers.google.com/search/docs/advanced/robots/intro).) Is the scraping we are about to do allowed or disallowed by this page? How do you know? \n",
    "\n",
    "A: **It is allowed, because it specified that all users (*) are not allowed to go to pages in the /lyricsdb/ and /song/ directory, but are allowed to go to all other pages/directories that are not marked as disallow. It does not allow user-agent: 008 to visit any of the pages, so this is likely the website owner blocking specific users or robots.**\n"
   ]
  },
  {
   "cell_type": "code",
   "execution_count": 13,
   "id": "ac9d31ec",
   "metadata": {},
   "outputs": [],
   "source": [
    "# Let's set up a dictionary of lists to hold our links\n",
    "lyrics_pages = defaultdict(list)\n",
    "\n",
    "for artist, artist_page in artists.items():\n",
    "    '''this code does stuff'''\n",
    "    # request the page and sleep\n",
    "    r = requests.get(artist_page)\n",
    "    time.sleep(5 + 10*random.random())\n",
    "    \n",
    "    # Extract the links to lyrics pages from this page\n",
    "    # and store them in lyrics_pages\n",
    "    soup = BeautifulSoup(r.content, 'html.parser')\n",
    "    artist_links = [\n",
    "        a['href'] \n",
    "        for a in soup.find_all('a', href=True) \n",
    "        if a['href'].startswith('/lyrics/')\n",
    "    ]\n",
    "    \n",
    "    # Add the extracted links to the lyrics_pages dictionary\n",
    "    lyrics_pages[artist] = artist_links"
   ]
  },
  {
   "cell_type": "markdown",
   "id": "9c285ec1",
   "metadata": {},
   "source": [
    "Let's make sure we have enough lyrics pages to scrape. "
   ]
  },
  {
   "cell_type": "code",
   "execution_count": 14,
   "id": "ae4cda68",
   "metadata": {},
   "outputs": [],
   "source": [
    "#if asserted, no error will return\n",
    "for artist, lp in lyrics_pages.items() :\n",
    "    assert(len(set(lp)) > 20) "
   ]
  },
  {
   "cell_type": "code",
   "execution_count": 15,
   "id": "edca10d6",
   "metadata": {},
   "outputs": [
    {
     "name": "stdout",
     "output_type": "stream",
     "text": [
      "For kacey musgraves we have 122.\n",
      "The full pull will take for this artist will take 0.34 hours.\n",
      "For sabrina carpenter we have 98.\n",
      "The full pull will take for this artist will take 0.27 hours.\n"
     ]
    }
   ],
   "source": [
    "# Let's see how long it's going to take to pull these lyrics \n",
    "# If we're waiting `5 + 10*random.random()` seconds \n",
    "for artist, links in lyrics_pages.items() : \n",
    "    print(f\"For {artist} we have {len(links)}.\")\n",
    "    print(f\"The full pull will take for this artist will take \"\n",
    "          f\"{round(len(links)*10/3600,2)} hours.\")"
   ]
  },
  {
   "cell_type": "markdown",
   "id": "011be6c6",
   "metadata": {},
   "source": [
    "## Part 2: Pulling Lyrics\n",
    "\n",
    "Now that we have the links to our lyrics pages, let's go scrape them! Here are the steps for this part. \n",
    "\n",
    "1. Create an empty folder in our repo called \"lyrics\". \n",
    "1. Iterate over the artists in `lyrics_pages`. \n",
    "1. Create a subfolder in lyrics with the artist's name. For instance, if the artist was Cher you'd have `lyrics/cher/` in your repo.\n",
    "1. Iterate over the pages. \n",
    "1. Request the page and extract the lyrics from the returned HTML file using BeautifulSoup.\n",
    "1. Use the function below, `generate_filename_from_url`, to create a filename based on the lyrics page. \n",
    "    * Then write the lyrics to a text file with that name. \n"
   ]
  },
  {
   "cell_type": "code",
   "execution_count": 16,
   "id": "67693711",
   "metadata": {},
   "outputs": [],
   "source": [
    "def generate_filename_from_link(link) :\n",
    "    #Generates a filename based on the lyric page title (song title)\n",
    "    if not link :\n",
    "        return None\n",
    "    \n",
    "    # drop the http or https and the html\n",
    "    name = link.replace(\"https\",\"\").replace(\"http\",\"\")\n",
    "    name = link.replace(\".html\",\"\")\n",
    "\n",
    "    name = name.replace(\"/lyrics/\",\"\")\n",
    "    \n",
    "    # Replace useless chareacters with UNDERSCORE\n",
    "    name = name.replace(\"://\",\"\").replace(\".\",\"_\").replace(\"/\",\"_\")\n",
    "    \n",
    "    # tack on .txt\n",
    "    name = name + \".txt\"\n",
    "    \n",
    "    return(name)\n"
   ]
  },
  {
   "cell_type": "code",
   "execution_count": 17,
   "id": "94a78c78",
   "metadata": {},
   "outputs": [],
   "source": [
    "# Make the lyrics folder here. If you'd like to practice your programming, add \n",
    "#functionality that checks to see if the folder exists. If it does, then use \n",
    "#shutil.rmtree to remove it and create a new one.\n",
    "\n",
    "#if lyrics folder exists:\n",
    "if os.path.isdir(\"lyrics\") : \n",
    "    #remove the folder and its contents\n",
    "    shutil.rmtree(\"lyrics/\")\n",
    "\n",
    "#make the lyrics folder\n",
    "os.mkdir(\"lyrics\")\n"
   ]
  },
  {
   "cell_type": "code",
   "execution_count": 18,
   "id": "3839c5ab",
   "metadata": {},
   "outputs": [],
   "source": [
    "url_stub = \"https://www.azlyrics.com\" \n",
    "start = time.time()\n",
    "\n",
    "#can replace with a limited number if desired\n",
    "total_pages = 25\n",
    "\n",
    "for artist, lyric_pages in lyrics_pages.items() :\n",
    "    # 1. Build a subfolder for the artist\n",
    "    # if folder already exists...\n",
    "    if os.path.isdir(os.path.join(\"lyrics\", artist)) : \n",
    "        #remove the folder and its contents\n",
    "        shutil.rmtree(os.path.join(\"lyrics\", artist))\n",
    "    # make artist subfolder inside lyrics folder\n",
    "    os.mkdir(os.path.join(\"lyrics\", artist))\n",
    "    \n",
    "    #sets a limit for number of lyric pages to analyze\n",
    "    #can comment out if no limit desired\n",
    "    #limit is set above the 'for' loop\n",
    "    lyric_pages = lyric_pages[:total_pages]\n",
    "    \n",
    "    # Use this space to carry out the following steps: \n",
    "    \n",
    "    # 2. Iterate over the lyrics pages\n",
    "\n",
    "    for lyric_page_url in lyric_pages:\n",
    "        \n",
    "        #specify the full url\n",
    "        full_lyric_page_url = url_stub + lyric_page_url\n",
    "    \n",
    "    # 3. Request the lyrics page. \n",
    "        # Don't forget to add a line like \n",
    "            #`time.sleep(5 + 10*random.random())`to sleep after making the request\n",
    "        \n",
    "        r = requests.get(full_lyric_page_url)\n",
    "        time.sleep(5 + 10 * random.random())\n",
    "        \n",
    "        # 4. Extract the title and lyrics from the page.\n",
    "\n",
    "        soup = BeautifulSoup(r.content, 'html.parser')\n",
    "            #extract song title (second bold element). remove quotes\n",
    "        title = soup.find_all(\"b\")[1].get_text().replace('\"','')\n",
    "            \n",
    "            #extract text from lyrics - 23rd div element\n",
    "        lyrics = soup.find_all(\"div\")[22].get_text()\n",
    "\n",
    "\n",
    "         # 5. Write out the title, two returns ('\\n'), and the lyrics. \n",
    "         # Use `generate_filename_from_link to generate the filename. \n",
    "        \n",
    "        filename = generate_filename_from_link(lyric_page_url)\n",
    "        with open(os.path.join(\"lyrics\", artist, filename), 'w') as f:\n",
    "                f.write(title + '\\n\\n' + lyrics)\n",
    "    \n",
    "    \n",
    "    # Remember to pull at least 20 songs per artist. \n",
    "    # It may be fun to pull all songs for the artist\n",
    "    "
   ]
  },
  {
   "cell_type": "code",
   "execution_count": 19,
   "id": "36c394f1",
   "metadata": {},
   "outputs": [
    {
     "name": "stdout",
     "output_type": "stream",
     "text": [
      "Total run time was 0.15 hours.\n"
     ]
    }
   ],
   "source": [
    "print(f\"Total run time was \"\n",
    "      f\"{round((time.time() - start)/3600,2)} hours.\")"
   ]
  },
  {
   "cell_type": "markdown",
   "id": "054cf14b",
   "metadata": {},
   "source": [
    "---\n",
    "\n",
    "# Evaluation\n",
    "\n",
    "This assignment asks you to pull data by scraping www.AZLyrics.com.  \n",
    "After you have finished the above sections , run all the cells in this notebook. \n",
    "Print this to PDF and submit it, per the instructions."
   ]
  },
  {
   "cell_type": "code",
   "execution_count": 20,
   "id": "217c2b0a",
   "metadata": {},
   "outputs": [],
   "source": [
    "# Simple word extractor from Peter Norvig: https://norvig.com/spell-correct.html\n",
    "\n",
    "#returns sequences of alphanumeric characters, converts to lowercase\n",
    "def words(text): \n",
    "    return re.findall(r'\\w+', text.lower())"
   ]
  },
  {
   "cell_type": "markdown",
   "id": "37778a1c",
   "metadata": {},
   "source": [
    "## Checking Lyrics \n",
    "\n",
    "The output from your lyrics scrape should be stored in files located in this path from the \n",
    "directory:\n",
    "`/lyrics/[Artist Name]/[filename from URL]`. \n",
    "This code summarizes the information at a high level to help the instructor evaluate your work. "
   ]
  },
  {
   "cell_type": "code",
   "execution_count": 21,
   "id": "bccac29c",
   "metadata": {},
   "outputs": [
    {
     "name": "stdout",
     "output_type": "stream",
     "text": [
      "For kacey musgraves we have 25 files.\n",
      "For kacey musgraves we have roughly 6219 words, 985 are unique.\n",
      "For sabrina carpenter we have 25 files.\n",
      "For sabrina carpenter we have roughly 9358 words, 873 are unique.\n"
     ]
    }
   ],
   "source": [
    "artist_folders = os.listdir(\"lyrics/\")\n",
    "artist_folders = [f for f in artist_folders if \n",
    "                  os.path.isdir(\"lyrics/\" + f)]\n",
    "\n",
    "for artist in artist_folders : \n",
    "    artist_files = os.listdir(\"lyrics/\" + artist)\n",
    "    artist_files = [f for f in artist_files if 'txt' in f \n",
    "                    or 'csv' in f or 'tsv' in f]\n",
    "\n",
    "    print(f\"For {artist} we have {len(artist_files)} files.\")\n",
    "\n",
    "    artist_words = []\n",
    "\n",
    "    for f_name in artist_files : \n",
    "        with open(\"lyrics/\" + artist + \"/\" + f_name) as infile : \n",
    "            artist_words.extend(words(infile.read()))\n",
    "\n",
    "            \n",
    "    print(f\"For {artist} we have roughly {len(artist_words)} words, \"\n",
    "          f\"{len(set(artist_words))} are unique.\")\n"
   ]
  }
 ],
 "metadata": {
  "celltoolbar": "Raw Cell Format",
  "kernelspec": {
   "display_name": "Python 3",
   "language": "python",
   "name": "python3"
  },
  "language_info": {
   "codemirror_mode": {
    "name": "ipython",
    "version": 3
   },
   "file_extension": ".py",
   "mimetype": "text/x-python",
   "name": "python",
   "nbconvert_exporter": "python",
   "pygments_lexer": "ipython3",
   "version": "3.8.8"
  }
 },
 "nbformat": 4,
 "nbformat_minor": 5
}
