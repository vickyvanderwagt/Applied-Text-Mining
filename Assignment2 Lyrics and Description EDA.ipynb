{
 "cells": [
  {
   "cell_type": "markdown",
   "id": "1b8add8f",
   "metadata": {},
   "source": [
    "#### Vicky van der Wagt"
   ]
  },
  {
   "cell_type": "markdown",
   "id": "7f79baf9",
   "metadata": {},
   "source": [
    "# ADS 509 Assignment 2.1: Tokenization, Normalization, Descriptive Statistics \n",
    "\n",
    "This notebook holds Assignment 2.1 for Module 2 in ADS 509, Applied Text Mining. Work through this notebook, writing code and answering questions where required. \n",
    "\n",
    "In the previous assignment you pulled lyrics data on two artists. In this assignment we explore this data set and a pull from the now-defunct Twitter API for the artists Cher and Robyn.  If, for some reason, you did not complete that previous assignment, data to use for this assignment can be found in the assignment materials section of Canvas. \n",
    "\n",
    "This assignment asks you to write a short function to calculate some descriptive statistics on a piece of text. Then you are asked to find some interesting and unique statistics on your corpora. \n"
   ]
  },
  {
   "cell_type": "markdown",
   "id": "aae8e2e1",
   "metadata": {},
   "source": [
    "## General Assignment Instructions\n",
    "\n",
    "These instructions are included in every assignment, to remind you of the coding standards for the class. Feel free to delete this cell after reading it. \n",
    "\n",
    "One sign of mature code is conforming to a style guide. We recommend the [Google Python Style Guide](https://google.github.io/styleguide/pyguide.html). If you use a different style guide, please include a cell with a link. \n",
    "\n",
    "Your code should be relatively easy-to-read, sensibly commented, and clean. Writing code is a messy process, so please be sure to edit your final submission. Remove any cells that are not needed or parts of cells that contain unnecessary code. Remove inessential `import` statements and make sure that all such statements are moved into the designated cell. \n",
    "\n",
    "Make use of non-code cells for written commentary. These cells should be grammatical and clearly written. In some of these cells you will have questions to answer. The questions will be marked by a \"Q:\" and will have a corresponding \"A:\" spot for you. *Make sure to answer every question marked with a `Q:` for full credit.* \n"
   ]
  },
  {
   "cell_type": "code",
   "execution_count": 573,
   "id": "e2d096b7",
   "metadata": {},
   "outputs": [],
   "source": [
    "import os\n",
    "import re\n",
    "import emoji\n",
    "import pandas as pd\n",
    "import numpy as np\n",
    "\n",
    "from collections import Counter, defaultdict\n",
    "from nltk.corpus import stopwords\n",
    "from string import punctuation\n",
    "\n",
    "sw = stopwords.words(\"english\")"
   ]
  },
  {
   "cell_type": "code",
   "execution_count": 615,
   "id": "6b555ab2",
   "metadata": {},
   "outputs": [],
   "source": [
    "# Add any additional import statements you need here\n",
    "\n",
    "#nltk.download('punkt')\n",
    "from nltk.tokenize import word_tokenize\n"
   ]
  },
  {
   "cell_type": "code",
   "execution_count": 616,
   "id": "923b5a86",
   "metadata": {},
   "outputs": [],
   "source": [
    "# change `data_location` to the location of the folder on your machine.\n",
    "data_location = \"/Users/vicky/Documents/GitHub/ADS509-Assignment2.2/M1 Results/\"\n",
    "\n",
    "# These subfolders should still work if you correctly stored the \n",
    "# data from the Module 1 assignment\n",
    "twitter_folder = \"twitter/\"\n",
    "lyrics_folder = \"lyrics/\""
   ]
  },
  {
   "cell_type": "code",
   "execution_count": 618,
   "id": "06522af9",
   "metadata": {},
   "outputs": [],
   "source": [
    "def descriptive_stats(tokens, num_tokens = 5, verbose=True) :\n",
    "    \"\"\"\n",
    "        Given a list of tokens, print number of tokens, number of unique tokens, \n",
    "        number of characters, lexical diversity (https://en.wikipedia.org/wiki/Lexical_diversity), \n",
    "        and num_tokens most common tokens. Return a list with the number of tokens, number\n",
    "        of unique tokens, lexical diversity, and number of characters. \n",
    "    \n",
    "    \"\"\"\n",
    "    # Fill in the correct values here. \n",
    "    num_tokens = len(tokens)\n",
    "    #print length of set of tokens (sets can't have duplicates)\n",
    "    num_unique_tokens = len(set(tokens))\n",
    "    #ratio of unique tokens to the total number of tokens\n",
    "    #added if statement just incase num_tokens is 0 which would result in error\n",
    "    lexical_diversity = num_unique_tokens / num_tokens if len(tokens) > 0 else 0\n",
    "    #for each token, count the length (# of characters)\n",
    "    num_characters = sum(len(token) for token in tokens)\n",
    "\n",
    "    if verbose :        \n",
    "        print(f\"There are {num_tokens} tokens in the data.\")\n",
    "        print(f\"There are {num_unique_tokens} unique tokens in the data.\")\n",
    "        print(f\"There are {num_characters} characters in the data.\")\n",
    "        print(f\"The lexical diversity is {lexical_diversity:.3f} in the data.\")\n",
    "    \n",
    "        # print the five most common tokens\n",
    "        \n",
    "    return([num_tokens, num_unique_tokens,\n",
    "            lexical_diversity,\n",
    "            num_characters])\n",
    "    "
   ]
  },
  {
   "cell_type": "code",
   "execution_count": 619,
   "id": "59dcf058",
   "metadata": {},
   "outputs": [
    {
     "name": "stdout",
     "output_type": "stream",
     "text": [
      "There are 13 tokens in the data.\n",
      "There are 9 unique tokens in the data.\n",
      "There are 55 characters in the data.\n",
      "The lexical diversity is 0.692 in the data.\n"
     ]
    }
   ],
   "source": [
    "text = \"\"\"here is some example text with other example text here in this text\"\"\".split()\n",
    "assert(descriptive_stats(text, verbose=True)[0] == 13)\n",
    "assert(descriptive_stats(text, verbose=False)[1] == 9)\n",
    "assert(abs(descriptive_stats(text, verbose=False)[2] - 0.69) < 0.02)\n",
    "assert(descriptive_stats(text, verbose=False)[3] == 55)\n"
   ]
  },
  {
   "cell_type": "markdown",
   "id": "d2e7e1a2",
   "metadata": {},
   "source": [
    "Q: Why is it beneficial to use assertion statements in your code? \n",
    "\n",
    "A: It is beneficial to use assertions in code because they can check that the code is working as expected. In the case of the funciton above, the correct values were known beforehand and the assert statement verified that we got the values we expected, and that the function was working as expected."
   ]
  },
  {
   "cell_type": "markdown",
   "id": "9d3bf93e",
   "metadata": {},
   "source": [
    "## Data Input\n",
    "\n",
    "Now read in each of the corpora. For the lyrics data, it may be convenient to store the entire contents of the file to make it easier to inspect the titles individually, as you'll do in the last part of the assignment. In the solution, I stored the lyrics data in a dictionary with two dimensions of keys: artist and song. The value was the file contents. A data frame would work equally well. \n",
    "\n",
    "For the Twitter data, we only need the description field for this assignment. Feel free all the descriptions read it into a data structure. In the solution, I stored the descriptions as a dictionary of lists, with the key being the artist. \n",
    "\n",
    "\n"
   ]
  },
  {
   "cell_type": "code",
   "execution_count": 642,
   "id": "04400594",
   "metadata": {},
   "outputs": [],
   "source": [
    "#read in the lyrics data\n",
    "lyrics_path = os.path.join(data_location, lyrics_folder)\n",
    "\n",
    "#initialize dictionary\n",
    "lyrics_dict = {}\n",
    "\n",
    "#for every artist (folder) in lyrics path...\n",
    "for artist in os.listdir(lyrics_path):\n",
    "    #find the artist path\n",
    "    artist_path = os.path.join(lyrics_path, artist)\n",
    "    if os.path.isdir(artist_path):  \n",
    "        #initialize dictionary to hold songs\n",
    "        artist_songs = {}  \n",
    "        #for each song in artist_path\n",
    "        for song_file in os.listdir(artist_path):\n",
    "            #if a .txt file...\n",
    "            if song_file.endswith('.txt'):\n",
    "                # extract song title(after 1st  _ delimiter)\n",
    "                song_title = song_file.split(\"_\", 1)[1].split(\".\")[0]\n",
    "                song_path = os.path.join(artist_path, song_file)\n",
    "                with open(song_path, 'r', encoding='utf-8') as file:\n",
    "                    #read the file\n",
    "                    song_lyrics = file.read()  \n",
    "                    #artist_song and song_lyrics - key value pair\n",
    "                    artist_songs[song_title] = song_lyrics  \n",
    "        #nested dictionary. artist is key to the artist_songs dictionary            \n",
    "        lyrics_dict[artist] = artist_songs  # Add artist as a key to the dictionary with the nested dictionary of song titles and lyrics\n"
   ]
  },
  {
   "cell_type": "code",
   "execution_count": 651,
   "id": "debcac5a",
   "metadata": {},
   "outputs": [],
   "source": [
    "# Read in the twitter data\n",
    "twitter_path = os.path.join(data_location,twitter_folder)\n",
    "\n",
    "#initialize dictionary\n",
    "description_dict = {}\n",
    "\n",
    "#for subfolder containing the word data in the twitter path\n",
    "for data_file in os.listdir(twitter_path):\n",
    "    #filter for files with data in the name\n",
    "    if \"data\" in data_file:\n",
    "        #extract artist name as text in the file name before the underscore\n",
    "        artist_name = data_file.split(\"_\")[0]\n",
    "        #make empty list for descriptions\n",
    "        description_strings = []\n",
    "        # read file\n",
    "        with open(os.path.join(twitter_path, data_file), 'r') as file:\n",
    "            # skip header line because it does not contain descriptions\n",
    "            next(file)\n",
    "            # for each line in the files...\n",
    "            for line in file:\n",
    "                # split text file into columns, tab delimited\n",
    "                columns = line.strip().split('\\t') \n",
    "                # append description to list\n",
    "                #needed to specify column length, because blank columns were creating issues\n",
    "                if len(columns) >= 7:\n",
    "                    description_strings.append(columns[6])  # Assuming the description column is the seventh column\n",
    "        # add artist name and descriptions to dictionary\n",
    "        description_dict[artist_name] = description_strings\n"
   ]
  },
  {
   "cell_type": "markdown",
   "id": "6a5f3b12",
   "metadata": {},
   "source": [
    "## Data Cleaning\n",
    "\n",
    "Now clean and tokenize your data. Remove punctuation chacters (available in the `punctuation` object in the `string` library), split on whitespace, fold to lowercase, and remove stopwords. Store your cleaned data, which must be accessible as an interable for `descriptive_stats`, in new objects or in new columns in your data frame. \n",
    "\n"
   ]
  },
  {
   "cell_type": "code",
   "execution_count": 623,
   "id": "71c73d86",
   "metadata": {},
   "outputs": [],
   "source": [
    "punctuation = set(punctuation) # speeds up comparison"
   ]
  },
  {
   "cell_type": "code",
   "execution_count": 624,
   "id": "6baa36b8",
   "metadata": {},
   "outputs": [],
   "source": [
    "#generate data cleaning function\n",
    "def data_cleaning(data):\n",
    "    '''This function removes punctuation, folds characters to lowercase,\n",
    "        splits on whitespace, and removes stopwords. Input is a dictionary.'''\n",
    "    for key, value in data.items():\n",
    "        cleaned_values = []\n",
    "        for text in value:\n",
    "            # remove punctuation characters\n",
    "            # if character is not in punctuation, fold lowercase and string together\n",
    "            text = ''.join(char.lower() for char in text if char not in punctuation)\n",
    "            # split on whitespace (.split() splits on whitespace as default)\n",
    "            tokens = text.split()\n",
    "            # remove stop_words (generally common words) from data\n",
    "            tokens = [token for token in tokens if token not in sw]\n",
    "            # Join the cleaned tokens back into a string\n",
    "            cleaned_values.append(' '.join(tokens))\n",
    "        # Update the value of the original dictionary with the cleaned values\n",
    "        data[key] = cleaned_values\n",
    "    return data\n"
   ]
  },
  {
   "cell_type": "code",
   "execution_count": 626,
   "id": "b327033a",
   "metadata": {},
   "outputs": [],
   "source": [
    "# create your clean twitter data here\n",
    "cleaned_description_dict = data_cleaning(description_dict)"
   ]
  },
  {
   "cell_type": "code",
   "execution_count": 625,
   "id": "779d129b",
   "metadata": {},
   "outputs": [],
   "source": [
    "# create your clean lyric data here\n",
    "cleaned_lyrics_dict = data_cleaning(lyrics_dict)"
   ]
  },
  {
   "cell_type": "markdown",
   "id": "f2dd0179",
   "metadata": {},
   "source": [
    "## Basic Descriptive Statistics\n",
    "\n",
    "Call your `descriptive_stats` function on both your lyrics data and your twitter data and for both artists (four total calls). "
   ]
  },
  {
   "cell_type": "code",
   "execution_count": 627,
   "id": "2edb46f1",
   "metadata": {},
   "outputs": [],
   "source": [
    "#first, generate function to tokenize and filter data \n",
    "def tokenize_artist_filter(text, artist):\n",
    "    '''This function tokenizes the text in a text dictionary. \n",
    "    Additionally, it takes artist filters as input so that only\n",
    "    text associated with a specific artist key is tokenized. '''\n",
    "    if artist in text:\n",
    "        combined_text = ' '.join([str(value) for key, value in text.items() if key == artist])\n",
    "        text_tokens = word_tokenize(combined_text)\n",
    "        return text_tokens\n",
    "    else:\n",
    "        print(f\"Artist '{artist}' not found in the dictionary.\")\n",
    "        return []\n"
   ]
  },
  {
   "cell_type": "code",
   "execution_count": 628,
   "id": "355c0ab7",
   "metadata": {},
   "outputs": [],
   "source": [
    "lyric_tokens_cher = tokenize_artist_filter(cleaned_lyrics_dict, 'cher')\n",
    "lyric_tokens_robyn = tokenize_artist_filter(cleaned_lyrics_dict, 'robyn')\n",
    "description_tokens_cher = tokenize_artist_filter(cleaned_description_dict, 'cher')\n",
    "description_tokens_robyn = tokenize_artist_filter(cleaned_description_dict, 'robynkonichiwa')"
   ]
  },
  {
   "cell_type": "code",
   "execution_count": 629,
   "id": "f0bbedd9",
   "metadata": {},
   "outputs": [
    {
     "name": "stdout",
     "output_type": "stream",
     "text": [
      "Cher lyrics - descriptive statistics:\n",
      "\n",
      "There are 948 tokens in the data.\n",
      "There are 320 unique tokens in the data.\n",
      "There are 5629 characters in the data.\n",
      "The lexical diversity is 0.338 in the data.\n",
      "\n",
      "\n",
      "Robyn lyrics - descriptive statistics:\n",
      "\n",
      "There are 312 tokens in the data.\n",
      "There are 108 unique tokens in the data.\n",
      "There are 1680 characters in the data.\n",
      "The lexical diversity is 0.346 in the data.\n",
      "\n",
      "Cher twitter profile descriptions - descriptive statistics:\n",
      "\n",
      "There are 19940092 tokens in the data.\n",
      "There are 1600885 unique tokens in the data.\n",
      "There are 99570808 characters in the data.\n",
      "The lexical diversity is 0.080 in the data.\n",
      "\n",
      "Robyn twitter profile descriptions - descriptive statistics:\n",
      "\n",
      "There are 1893275 tokens in the data.\n",
      "There are 273748 unique tokens in the data.\n",
      "There are 9754444 characters in the data.\n",
      "The lexical diversity is 0.145 in the data.\n"
     ]
    }
   ],
   "source": [
    "# calls to descriptive_stats here\n",
    "print(\"Cher lyrics - descriptive statistics:\\n\")\n",
    "lyrics_descriptive_stats = descriptive_stats(lyric_tokens_cher)\n",
    "\n",
    "print(\"\\n\\nRobyn lyrics - descriptive statistics:\\n\")\n",
    "lyrics_descriptive_stats = descriptive_stats(lyric_tokens_robyn)\n",
    "\n",
    "print(\"\\nCher twitter profile descriptions - descriptive statistics:\\n\")\n",
    "lyrics_descriptive_stats = descriptive_stats(description_tokens_cher)\n",
    "\n",
    "print(\"\\nRobyn twitter profile descriptions - descriptive statistics:\\n\")\n",
    "lyrics_descriptive_stats = descriptive_stats(description_tokens_robyn)"
   ]
  },
  {
   "cell_type": "markdown",
   "id": "46294409",
   "metadata": {},
   "source": [
    "Q: How do you think the \"top 5 words\" would be different if we left stopwords in the data? \n",
    "\n",
    "A: If stopwords were left in the data, I believe that the top 5 words would be composed of stopwords. Stopwords are super common and frequent as they are critical for grammar and sentence structure. \n",
    "\n",
    "---\n",
    "\n",
    "Q: What were your prior beliefs about the lexical diversity between the artists? Does the difference (or lack thereof) in lexical diversity between the artists conform to your prior beliefs? \n",
    "\n",
    "A: I have never listened to Robyn, so I didn't have prior beliefs between the two artists. However, I was surpised to see that Cher's lexical diversity was only 10.6%. I imagined a higher number, perhaps around 20 or 30% especially because we excluded stopwords. Therefore, the lexical diversity rate did not conform to my prior beliefs. \n"
   ]
  },
  {
   "cell_type": "markdown",
   "id": "4d4e1ac1",
   "metadata": {},
   "source": [
    "\n",
    "## Specialty Statistics\n",
    "\n",
    "The descriptive statistics we have calculated are quite generic. You will now calculate a handful of statistics tailored to these data.\n",
    "\n",
    "1. Ten most common emojis by artist in the twitter descriptions.\n",
    "1. Ten most common hashtags by artist in the twitter descriptions.\n",
    "1. Five most common words in song titles by artist. \n",
    "1. For each artist, a histogram of song lengths (in terms of number of tokens) \n",
    "\n",
    "We can use the `emoji` library to help us identify emojis and you have been given a function to help you.\n"
   ]
  },
  {
   "cell_type": "code",
   "execution_count": 630,
   "id": "753a5a3e",
   "metadata": {},
   "outputs": [],
   "source": [
    "assert(emoji.is_emoji(\"❤️\"))\n",
    "assert(not emoji.is_emoji(\":-)\"))"
   ]
  },
  {
   "cell_type": "markdown",
   "id": "986fc4c0",
   "metadata": {},
   "source": [
    "### Emojis 😁\n",
    "\n",
    "\n",
    "What are the ten most common emojis by artist in the twitter descriptions? "
   ]
  },
  {
   "cell_type": "code",
   "execution_count": 656,
   "id": "269cd433",
   "metadata": {},
   "outputs": [
    {
     "name": "stdout",
     "output_type": "stream",
     "text": [
      "Most common emojis of twitter users following Cher: \n",
      "\n",
      "['❤️', '♥', '❤', '✨', '🌈', '💙', '🇺🇸', '💜', '💕', '🌊']\n",
      "\n",
      "\n",
      " Most common emojis of twitter users following Robyn: \n",
      "\n",
      "['♥', '❤️', '✨', '❤', '🌈', '🎶', '💜', '🎧', '🖤', '💙']\n"
     ]
    }
   ],
   "source": [
    "# Your code here\n",
    "\n",
    "#generate emoji function \n",
    "def top_x_emojis(text):\n",
    "    '''this '''\n",
    "    #can change value of x is desired. the # of top emojis to be counted\n",
    "    x=10\n",
    "    emojis = [char for char in text if emoji.is_emoji(char)]\n",
    "    emoji_counts = Counter(emojis)\n",
    "    # Get the top 10 emojis with the highest counts\n",
    "    top_10_emojis = emoji_counts.most_common(10)\n",
    "    return top_10_emojis\n",
    "\n",
    "cher_top_10_emojis = top_x_emojis(description_tokens_cher)\n",
    "print(\"Most common emojis of twitter users following Cher: \\n\")\n",
    "print([emoji for emoji, _ in cher_top_10_emojis])\n",
    "\n",
    "robyn_top_10_emojis = top_x_emojis(description_tokens_robyn)\n",
    "print(\"\\n\\n Most common emojis of twitter users following Robyn: \\n\")\n",
    "print([emoji for emoji, _ in robyn_top_10_emojis])"
   ]
  },
  {
   "cell_type": "markdown",
   "id": "bab9b770",
   "metadata": {},
   "source": [
    "### Hashtags\n",
    "\n",
    "What are the ten most common hashtags by artist in the twitter descriptions? "
   ]
  },
  {
   "cell_type": "code",
   "execution_count": 654,
   "id": "007cf593",
   "metadata": {},
   "outputs": [],
   "source": [
    "#important to note that the '#' characters were removed during our initial data cleaning.\n",
    "\n",
    "#use unclean: description_dict\n",
    "#tokenize description_dict cher\n",
    "\n",
    "descriptions_combined_cher_unclean= ' '.join([str(value) for key, value in description_dict.items() if key == 'cher'])\n",
    "descriptions_combined_robyn_unclean= ' '.join([str(value) for key, value in description_dict.items() if key == 'robynkonichiwa'])"
   ]
  },
  {
   "cell_type": "code",
   "execution_count": 655,
   "id": "91d32f6a",
   "metadata": {},
   "outputs": [
    {
     "name": "stdout",
     "output_type": "stream",
     "text": [
      "Most common hashtags of artists following Cher: \n",
      "\n",
      "['#resist', '#blm', '#blacklivesmatter', '#theresistance', '#fbr', '#resistance', '#', '#1', '#voteblue', '#lgbtq']\n",
      "\n",
      "\n",
      "Most common hashtags of artists following Robyn: \n",
      "\n",
      "['#blacklivesmatter', '#blm', '#music', '#1', '#', '#teamfollowback', '#edm', '#lgbtq', '#resist', '#art']\n"
     ]
    }
   ],
   "source": [
    "#Your code here\n",
    "\n",
    "def top_x_hashtags(text):\n",
    "    x = 10\n",
    "    text = text.lower()\n",
    "    text_without_punctuation = ''.join(char if char == '#' or char not in punctuation else ' ' for char in text)\n",
    "    tokens = text_without_punctuation.split()\n",
    "    hashtags = [token for token in tokens if token.startswith('#')]\n",
    "    #count number of hashtags\n",
    "    hashtag_counts = Counter(hashtags)\n",
    "    # get the top x number of hashtags\n",
    "    top_x_hashtags = hashtag_counts.most_common(x)\n",
    "    top_hashtags = [hashtag for hashtag, _ in top_x_hashtags]\n",
    "    return top_hashtags\n",
    "\n",
    "#extract top 10 hashtags for each artist\n",
    "top_10_hashtags_cher = top_x_hashtags(descriptions_combined_cher_unclean)\n",
    "top_10_hashtags_robyn = top_x_hashtags(descriptions_combined_robyn_unclean)\n",
    "\n",
    "#print results\n",
    "print(\"Most common hashtags of artists following Cher: \\n\")\n",
    "print(top_10_hashtags_cher)\n",
    "\n",
    "print(\"\\n\\nMost common hashtags of artists following Robyn: \\n\")\n",
    "print(top_10_hashtags_robyn)"
   ]
  },
  {
   "cell_type": "markdown",
   "id": "d10f21d5",
   "metadata": {},
   "source": [
    "### Song Titles\n",
    "\n",
    "What are the five most common words in song titles by artist? The song titles should be on the first line of the lyrics pages, so if you have kept the raw file contents around, you will not need to re-read the data.\n"
   ]
  },
  {
   "cell_type": "code",
   "execution_count": 645,
   "id": "bb69b36b",
   "metadata": {},
   "outputs": [],
   "source": [
    "# Your code here\n",
    "\n",
    "#function to extract titles\n",
    "def extract_song_titles(lyrics_dict):\n",
    "    '''Extracts the title of each song from the lyrics dictionary.'''\n",
    "    song_titles = {}\n",
    "    for artist, songs in lyrics_dict.items():\n",
    "        for song, lyrics in songs.items():\n",
    "            # if lyrics exist...\n",
    "            if lyrics:\n",
    "                # extract the title (all the text prior to line break)\n",
    "                title = lyrics.split('\\n')[0]\n",
    "                # store title under artist key in song dictionary\n",
    "                song_titles.setdefault(artist, []).append(title)\n",
    "    return song_titles\n",
    "\n",
    "#extract song titles\n",
    "titles = extract_song_titles(lyrics_dict)\n",
    "#clean the song titles\n",
    "titles_cleaned = data_cleaning(titles)\n",
    "\n",
    "#combine, clean, tokenize all cher and robyn songs (filtered seperately)\n",
    "combined_titles_cher = ' '.join([str(value) for key, value in titles_cleaned.items() if key == 'cher'])\n",
    "combined_titles_robyn = ' '.join([str(value) for key, value in titles_cleaned.items() if key == 'robyn'])\n",
    "\n",
    "cleaned_combined_titles_cher = ''.join([char for char in combined_titles_cher if char not in punctuation])\n",
    "cleaned_combined_titles_cher_tokenized = word_tokenize(cleaned_combined_titles_cher)\n",
    "\n",
    "cleaned_combined_titles_robyn = ''.join([char for char in combined_titles_robyn if char not in punctuation])\n",
    "cleaned_combined_titles_robyn_tokenized = word_tokenize(cleaned_combined_titles_robyn)"
   ]
  },
  {
   "cell_type": "code",
   "execution_count": 646,
   "id": "dc1b2621",
   "metadata": {},
   "outputs": [],
   "source": [
    "def top_5_words(tokenized_text):\n",
    "    '''This function extracts the most common 5 words'''\n",
    "    #count number of each word\n",
    "    word_counts = Counter(tokenized_text)\n",
    "    #get and return the top 5 words\n",
    "    top_5 = [word for word, _ in word_counts.most_common(5)]\n",
    "    return top_5"
   ]
  },
  {
   "cell_type": "code",
   "execution_count": 647,
   "id": "b362dc8f",
   "metadata": {},
   "outputs": [
    {
     "name": "stdout",
     "output_type": "stream",
     "text": [
      "Five most common words in Cher song titles:\n",
      "\n",
      "['love', 'man', 'song', 'dont', 'come']\n",
      "\n",
      "\n",
      "Five most common words in Robyn song titles:\n",
      "\n",
      "['love', 'dont', 'u', 'hang', 'tell']\n"
     ]
    }
   ],
   "source": [
    "# get the top 5 words from both cher and robyn\n",
    "title_cher_top_5_words = top_5_words(cleaned_combined_titles_cher_tokenized)\n",
    "title_robyn_top_5_words = top_5_words(cleaned_combined_titles_robyn_tokenized)\n",
    "\n",
    "#print the results\n",
    "print(\"Five most common words in Cher song titles:\\n\")\n",
    "print(title_cher_top_5_words)\n",
    "\n",
    "print(\"\\n\\nFive most common words in Robyn song titles:\\n\")\n",
    "print(title_robyn_top_5_words)"
   ]
  },
  {
   "cell_type": "markdown",
   "id": "5dd4fd71",
   "metadata": {},
   "source": [
    "### Song Lengths\n",
    "\n",
    "For each artist, a histogram of song lengths (in terms of number of tokens). If you put the song lengths in a data frame with an artist column, matplotlib will make the plotting quite easy. An example is given to help you out. \n"
   ]
  },
  {
   "cell_type": "code",
   "execution_count": 648,
   "id": "f92a9546",
   "metadata": {},
   "outputs": [
    {
     "data": {
      "text/plain": [
       "artist\n",
       "Artist 1    AxesSubplot(0.125,0.125;0.775x0.755)\n",
       "Artist 2    AxesSubplot(0.125,0.125;0.775x0.755)\n",
       "Name: length, dtype: object"
      ]
     },
     "execution_count": 648,
     "metadata": {},
     "output_type": "execute_result"
    },
    {
     "data": {
      "image/png": "[encoded data removed]",
      "text/plain": [
       "<Figure size 432x288 with 1 Axes>"
      ]
     },
     "metadata": {
      "needs_background": "light"
     },
     "output_type": "display_data"
    }
   ],
   "source": [
    "num_replicates = 1000\n",
    "\n",
    "df = pd.DataFrame({\n",
    "    \"artist\" : ['Artist 1'] * num_replicates + ['Artist 2']*num_replicates,\n",
    "    \"length\" : np.concatenate((np.random.poisson(125,num_replicates),np.random.poisson(150,num_replicates)))\n",
    "})\n",
    "\n",
    "df.groupby('artist')['length'].plot(kind=\"hist\",density=True,alpha=0.5,legend=True)"
   ]
  },
  {
   "cell_type": "markdown",
   "id": "8fde9ebb",
   "metadata": {},
   "source": [
    "Since the lyrics may be stored with carriage returns or tabs, it may be useful to have a function that can collapse whitespace, using regular expressions, and be used for splitting. \n",
    "\n",
    "Q: What does the regular expression `'\\s+'` match on? \n",
    "\n",
    "A: This regular expression matches on one or more instances of any whitespace character. Whitespace characters include spaces, tabs, as well as new lines. \n"
   ]
  },
  {
   "cell_type": "code",
   "execution_count": 649,
   "id": "f0e34516",
   "metadata": {},
   "outputs": [],
   "source": [
    "collapse_whitespace = re.compile(r'\\s+')\n",
    "\n",
    "def tokenize_lyrics(lyrics):\n",
    "    '''this function splits/collapses lyrics on whitespace'''\n",
    "    lines = lyrics.split('\\n')\n",
    "    #exclude the title\n",
    "    lyrics_without_title = '\\n'.join(lines[1:])\n",
    "    # Tokenize the lyrics without the title\n",
    "    tokens = word_tokenize(lyrics_without_title)\n",
    "    return tokens\n",
    "\n",
    "def count_tokens(dictionary):\n",
    "    ''' this function counts the number of tokens (song lyrics) in dictionary'''\n",
    "    token_counts = []\n",
    "    for artist, songs in dictionary.items():\n",
    "        for song, lyrics in songs.items():\n",
    "            # tokenize lyrics\n",
    "            tokens = tokenize_lyrics(lyrics)\n",
    "            # store the number of tokens (length)\n",
    "            length = len(tokens)\n",
    "            # append artist name and associated token count to list\n",
    "            token_counts.append({'artist': artist, 'length': length})\n",
    "    # save dictionary list as dataframe\n",
    "    df = pd.DataFrame(token_counts)\n",
    "    return df\n",
    "\n",
    "song_lengths = count_tokens(lyrics_dict)\n"
   ]
  },
  {
   "cell_type": "code",
   "execution_count": 650,
   "id": "2294c440",
   "metadata": {},
   "outputs": [
    {
     "data": {
      "text/plain": [
       "artist\n",
       "cher     AxesSubplot(0.125,0.125;0.775x0.755)\n",
       "robyn    AxesSubplot(0.125,0.125;0.775x0.755)\n",
       "Name: length, dtype: object"
      ]
     },
     "execution_count": 650,
     "metadata": {},
     "output_type": "execute_result"
    },
    {
     "data": {
      "image/png": "[encoded data removed]",
      "text/plain": [
       "<Figure size 432x288 with 1 Axes>"
      ]
     },
     "metadata": {
      "needs_background": "light"
     },
     "output_type": "display_data"
    }
   ],
   "source": [
    "# Your lyric length comparison chart here. \n",
    "\n",
    "\\\n",
    "song_lengths.groupby('artist')['length'].plot(kind=\"hist\",density=True,alpha=0.5,legend=True)"
   ]
  }
 ],
 "metadata": {
  "kernelspec": {
   "display_name": "Python 3",
   "language": "python",
   "name": "python3"
  },
  "language_info": {
   "codemirror_mode": {
    "name": "ipython",
    "version": 3
   },
   "file_extension": ".py",
   "mimetype": "text/x-python",
   "name": "python",
   "nbconvert_exporter": "python",
   "pygments_lexer": "ipython3",
   "version": "3.8.8"
  }
 },
 "nbformat": 4,
 "nbformat_minor": 5
}
