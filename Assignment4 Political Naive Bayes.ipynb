{
 "cells": [
  {
   "cell_type": "markdown",
   "metadata": {},
   "source": [
    "#### Vicky van der Wagt"
   ]
  },
  {
   "cell_type": "markdown",
   "metadata": {},
   "source": [
    "## Naive Bayes on Political Text\n",
    "\n",
    "In this notebook we use Naive Bayes to explore and classify political data. See the `README.md` for full details. You can download the required DB from the shared dropbox or from blackboard"
   ]
  },
  {
   "cell_type": "code",
   "execution_count": 1,
   "metadata": {},
   "outputs": [],
   "source": [
    "import sqlite3\n",
    "import nltk\n",
    "import random\n",
    "import numpy as np\n",
    "from collections import Counter, defaultdict\n",
    "\n",
    "# Feel free to include your text patterns functions\n",
    "#from text_functions_solutions import clean_tokenize, get_patterns\n",
    "from nltk.corpus import stopwords\n",
    "from string import punctuation\n",
    "from nltk.tokenize import word_tokenize\n",
    "import seaborn as sns\n",
    "import matplotlib.pyplot as plt\n",
    "import pandas as pd"
   ]
  },
  {
   "cell_type": "code",
   "execution_count": 2,
   "metadata": {},
   "outputs": [
    {
     "name": "stdout",
     "output_type": "stream",
     "text": [
      "(0, 'party', 'TEXT', 0, None, 0)\n",
      "(1, 'night', 'INTEGER', 0, None, 0)\n",
      "(2, 'speaker', 'TEXT', 0, None, 0)\n",
      "(3, 'speaker_count', 'INTEGER', 0, None, 0)\n",
      "(4, 'time', 'TEXT', 0, None, 0)\n",
      "(5, 'text', 'TEXT', 0, None, 0)\n",
      "(6, 'text_len', 'TEXT', 0, None, 0)\n",
      "(7, 'file', 'TEXT', 0, None, 0)\n"
     ]
    }
   ],
   "source": [
    "#connect to database file\n",
    "convention_db = sqlite3.connect(\"2020_Conventions.db\")\n",
    "#generate cursor object to generate sql commands\n",
    "convention_cur = convention_db.cursor()\n",
    "\n",
    "# use a PRAGMA statement to get table info (column names, datatypes, whether primary key)\n",
    "convention_cur.execute(\"PRAGMA table_info(conventions)\")\n",
    "\n",
    "# fetch the results\n",
    "rows = convention_cur.fetchall()\n",
    "\n",
    "# print results\n",
    "for row in rows:\n",
    "    print(row)"
   ]
  },
  {
   "cell_type": "markdown",
   "metadata": {},
   "source": [
    "### Add data cleaning functions"
   ]
  },
  {
   "cell_type": "code",
   "execution_count": 3,
   "metadata": {},
   "outputs": [],
   "source": [
    "sw = stopwords.words(\"english\")\n",
    "punctuation = set(punctuation)\n",
    "\n",
    "def remove_stopwords(tokens) :\n",
    "    \"\"\"This function removes stopwords (sw) from text. \"\"\"\n",
    "    \n",
    "    tokens = [token for token in tokens if token not in sw]\n",
    "    \n",
    "    return(tokens)\n",
    "\n",
    "def tokenize(text) : \n",
    "    \"\"\" This function splits text on whitespace, and folds to lowercase. \"\"\"\n",
    "    tokens = word_tokenize(text.lower())\n",
    "    return(tokens)\n",
    "\n",
    "def remove_punctuation(text, punct_set=punctuation) : \n",
    "    \"\"\" This function removes punctuation. \"\"\"\n",
    "    \n",
    "    return(\"\".join([ch for ch in text if ch not in punctuation]))\n",
    "\n",
    "def process_text(text, pipeline):\n",
    "    \"\"\" This function is used to apply functions to text. \"\"\"\n",
    "    for function in pipeline:\n",
    "        text = function(text)\n",
    "    return text\n"
   ]
  },
  {
   "cell_type": "markdown",
   "metadata": {},
   "source": [
    "### Part 1: Exploratory Naive Bayes\n",
    "\n",
    "We'll first build a NB model on the convention data itself, as a way to understand what words distinguish between the two parties. This is analogous to what we did in the \"Comparing Groups\" class work. First, pull in the text \n",
    "for each party and prepare it for use in Naive Bayes.  "
   ]
  },
  {
   "cell_type": "code",
   "execution_count": 4,
   "metadata": {},
   "outputs": [],
   "source": [
    "convention_data = []\n",
    "\n",
    "# fill this list up with items that are themselves lists. The \n",
    "# The first element in the sublist should be the cleaned and tokenized\n",
    "# text in a single string. As part of your cleaning process,\n",
    "# remove the stopwords from the text. The second element of the sublist\n",
    "# should be the party. \n",
    "\n",
    "#add functions to our text pipeline\n",
    "text_pipeline = [remove_punctuation, tokenize, remove_stopwords]\n",
    "\n",
    "\n",
    "query_results = convention_cur.execute(\n",
    "                            '''\n",
    "                            SELECT [text], [party] from conventions\n",
    "                            ''')\n",
    "\n",
    "for row in query_results :\n",
    "    #store the first column as text and the second column as party\n",
    "    text = row[0] \n",
    "    party = row[1]  # \n",
    "    # clean the text using our text pipeline\n",
    "    cleaned_text = process_text(text, text_pipeline)\n",
    "    convention_data.append([cleaned_text, party])\n",
    "       "
   ]
  },
  {
   "cell_type": "markdown",
   "metadata": {},
   "source": [
    "Let's look at some random entries and see if they look right. "
   ]
  },
  {
   "cell_type": "code",
   "execution_count": 5,
   "metadata": {},
   "outputs": [
    {
     "data": {
      "text/plain": [
       "[[['wisconsin'], 'Democratic'],\n",
       " [['found',\n",
       "   'leader',\n",
       "   'vice',\n",
       "   'president',\n",
       "   'soon',\n",
       "   'president',\n",
       "   'joe',\n",
       "   'biden'],\n",
       "  'Democratic'],\n",
       " [['’',\n",
       "   'speaker',\n",
       "   'would',\n",
       "   'bring',\n",
       "   'gun',\n",
       "   'bill',\n",
       "   'floor',\n",
       "   '’',\n",
       "   'speaker',\n",
       "   'would',\n",
       "   'bring',\n",
       "   'dreamer',\n",
       "   '’',\n",
       "   'issue',\n",
       "   'floor'],\n",
       "  'Democratic'],\n",
       " [['yeah'], 'Democratic'],\n",
       " [['factory',\n",
       "   'workers',\n",
       "   'ohio',\n",
       "   'faced',\n",
       "   'dangerous',\n",
       "   'conditions',\n",
       "   'administration',\n",
       "   '’',\n",
       "   'given',\n",
       "   'clear',\n",
       "   'guidance',\n",
       "   'protect',\n",
       "   'people'],\n",
       "  'Democratic']]"
      ]
     },
     "execution_count": 5,
     "metadata": {},
     "output_type": "execute_result"
    }
   ],
   "source": [
    "random.choices(convention_data,k=5)"
   ]
  },
  {
   "cell_type": "markdown",
   "metadata": {},
   "source": [
    "If that looks good, we now need to make our function to turn these into features. In my solution, I wanted to keep the number of features reasonable, so I only used words that occur at least `word_cutoff` times. Here's the code to test that if you want it. "
   ]
  },
  {
   "cell_type": "code",
   "execution_count": 6,
   "metadata": {},
   "outputs": [
    {
     "name": "stdout",
     "output_type": "stream",
     "text": [
      "With a word cutoff of 35, we have 424 as features in the model.\n"
     ]
    }
   ],
   "source": [
    "word_cutoff = 35\n",
    "\n",
    "#tokens = [w for t, p in convention_data for w in t.split()]\n",
    "\n",
    "#saves tokens as the words in our convention data text\n",
    "tokens = [w for t, p in convention_data for w in t]\n",
    "\n",
    "# nltk.FreqDist calculates the frequency distribution of tokens\n",
    "word_dist = nltk.FreqDist(tokens)\n",
    "\n",
    "# generate empty set to store our feature words \n",
    "feature_words = set()\n",
    "\n",
    "# if word count exceeds the word cutoff, add word to the feature_words set\n",
    "for word, count in word_dist.items() :\n",
    "    if count > word_cutoff :\n",
    "        feature_words.add(word)\n",
    "        \n",
    "print(f\"With a word cutoff of {word_cutoff}, we have {len(feature_words)} as features in the model.\")"
   ]
  },
  {
   "cell_type": "code",
   "execution_count": 7,
   "metadata": {},
   "outputs": [],
   "source": [
    "def conv_features(text,fw) :\n",
    "    \"\"\"Given some text, this returns a dictionary holding the\n",
    "       feature words.\n",
    "       \n",
    "       Args: \n",
    "            * text: a piece of text in a continuous string. Assumes\n",
    "            text has been cleaned and case folded.\n",
    "            * fw: the *feature words* that we're considering. A word \n",
    "            in `text` must be in fw in order to be returned. This \n",
    "            prevents us from considering very rarely occurring words.\n",
    "        \n",
    "       Returns: \n",
    "            A dictionary with the words in `text` that appear in `fw`. \n",
    "            Words are only counted once. \n",
    "            If `text` were \"quick quick brown fox\" and `fw` = {'quick','fox','jumps'},\n",
    "            then this would return a dictionary of \n",
    "            {'quick' : True,\n",
    "             'fox' :    True}\n",
    "    \"\"\"\n",
    "    #initate empty dictionary\n",
    "    ret_dict = {}\n",
    "    \n",
    "    #if the text is a string...\n",
    "    if isinstance(text, str):\n",
    "        # convert string to list of words by splitting on whitespace\n",
    "        text = text.split()\n",
    "    \n",
    "    #for words in the text\n",
    "    for word in text:\n",
    "        #if the word is not in feature words and not already in our dictionary...\n",
    "        if word in fw and word not in ret_dict:\n",
    "            # add word to dictionary with a True value\n",
    "            ret_dict[word] = True\n",
    "    #return the dictionary        \n",
    "    return ret_dict\n"
   ]
  },
  {
   "cell_type": "code",
   "execution_count": 8,
   "metadata": {},
   "outputs": [],
   "source": [
    "#assert statements to double check our function conv_features is working as expected\n",
    "#did not pass assert statements with much higher feature counts\n",
    "assert(len(feature_words)>0)\n",
    "assert(conv_features(\"donald is the president\",feature_words)==\n",
    "       {'donald':True,'president':True})\n",
    "assert(conv_features(\"some people in america are citizens\",feature_words)==\n",
    "                     {'people':True,'america':True,\"citizens\":True})"
   ]
  },
  {
   "cell_type": "markdown",
   "metadata": {},
   "source": [
    "Now we'll build our feature set. Out of curiosity I did a train/test split to see how accurate the classifier was, but we don't strictly need to since this analysis is exploratory. "
   ]
  },
  {
   "cell_type": "code",
   "execution_count": 9,
   "metadata": {},
   "outputs": [],
   "source": [
    "# generate list of feature sets\n",
    "featuresets = [(conv_features(text,feature_words), party) for (text, party) in convention_data]"
   ]
  },
  {
   "cell_type": "code",
   "execution_count": 10,
   "metadata": {},
   "outputs": [],
   "source": [
    "random.seed(20220507)\n",
    "random.shuffle(featuresets)\n",
    "\n",
    "#define test size\n",
    "test_size = 500"
   ]
  },
  {
   "cell_type": "code",
   "execution_count": 11,
   "metadata": {},
   "outputs": [
    {
     "name": "stdout",
     "output_type": "stream",
     "text": [
      "0.488\n"
     ]
    }
   ],
   "source": [
    "#split data into training and testing\n",
    "test_set, train_set = featuresets[:test_size], featuresets[test_size:]\n",
    "#train Naive Bayes classifier model using training data\n",
    "classifier = nltk.NaiveBayesClassifier.train(train_set)\n",
    "#get the accuracy \n",
    "print(nltk.classify.accuracy(classifier, test_set))"
   ]
  },
  {
   "cell_type": "code",
   "execution_count": 12,
   "metadata": {},
   "outputs": [
    {
     "name": "stdout",
     "output_type": "stream",
     "text": [
      "Most Informative Features\n",
      "                   china = True           Republ : Democr =     27.1 : 1.0\n",
      "                   votes = True           Democr : Republ =     23.8 : 1.0\n",
      "             enforcement = True           Republ : Democr =     21.5 : 1.0\n",
      "                 climate = True           Democr : Republ =     17.8 : 1.0\n",
      "                   media = True           Republ : Democr =     15.8 : 1.0\n",
      "                   trade = True           Republ : Democr =     12.7 : 1.0\n",
      "                  cities = True           Republ : Democr =      9.5 : 1.0\n",
      "                 freedom = True           Republ : Democr =      9.0 : 1.0\n",
      "                    land = True           Republ : Democr =      8.6 : 1.0\n",
      "                    true = True           Republ : Democr =      8.5 : 1.0\n",
      "                grateful = True           Republ : Democr =      8.4 : 1.0\n",
      "                greatest = True           Republ : Democr =      8.4 : 1.0\n",
      "                  choice = True           Republ : Democr =      8.2 : 1.0\n",
      "                   taxes = True           Republ : Democr =      7.8 : 1.0\n",
      "                   bless = True           Republ : Democr =      7.4 : 1.0\n",
      "                  heroes = True           Republ : Democr =      7.1 : 1.0\n",
      "              incredible = True           Republ : Democr =      6.9 : 1.0\n",
      "               democracy = True           Democr : Republ =      6.4 : 1.0\n",
      "                  bernie = True           Democr : Republ =      6.2 : 1.0\n",
      "                      dr = True           Democr : Republ =      6.1 : 1.0\n",
      "                policies = True           Republ : Democr =      6.1 : 1.0\n",
      "                  police = True           Republ : Democr =      6.0 : 1.0\n",
      "                citizens = True           Republ : Democr =      5.8 : 1.0\n",
      "                   dream = True           Republ : Democr =      5.8 : 1.0\n",
      "                   elect = True           Democr : Republ =      5.8 : 1.0\n"
     ]
    }
   ],
   "source": [
    "# show 25 most informative features\n",
    "classifier.show_most_informative_features(25)"
   ]
  },
  {
   "cell_type": "markdown",
   "metadata": {},
   "source": [
    "Write a little prose here about what you see in the classifier. Anything odd or interesting?\n",
    "\n",
    "### My Observations\n",
    "\n",
    "Most of the informative features are words which are highly associated with the Republican party. This indicates that it is easier to classify whether a user is Republican, based on the high number of words that are associated with this class in the model. "
   ]
  },
  {
   "cell_type": "markdown",
   "metadata": {},
   "source": [
    "## Part 2: Classifying Congressional Tweets\n",
    "\n",
    "In this part we apply the classifer we just built to a set of tweets by people running for congress\n",
    "in 2018. These tweets are stored in the database `congressional_data.db`. That DB is funky, so I'll\n",
    "give you the query I used to pull out the tweets. Note that this DB has some big tables and \n",
    "is unindexed, so the query takes a minute or two to run on my machine."
   ]
  },
  {
   "cell_type": "code",
   "execution_count": 13,
   "metadata": {},
   "outputs": [],
   "source": [
    "#connect to specified database\n",
    "cong_db = sqlite3.connect(\"congressional_data.db\")\n",
    "#create cursor object\n",
    "cong_cur = cong_db.cursor()"
   ]
  },
  {
   "cell_type": "code",
   "execution_count": 14,
   "metadata": {},
   "outputs": [],
   "source": [
    "#select distinct candidate, party & tweet combos, filter for 2 parties\n",
    "results = cong_cur.execute(\n",
    "        '''\n",
    "           SELECT DISTINCT \n",
    "                  cd.candidate, \n",
    "                  cd.party,\n",
    "                  tw.tweet_text\n",
    "           FROM candidate_data cd \n",
    "           INNER JOIN tweets tw ON cd.twitter_handle = tw.handle \n",
    "               AND cd.candidate == tw.candidate \n",
    "               AND cd.district == tw.district\n",
    "           WHERE cd.party in ('Republican','Democratic') \n",
    "               AND tw.tweet_text NOT LIKE '%RT%'\n",
    "        ''')\n",
    "\n",
    "results = list(results) # Just to store it, since the query is time consuming"
   ]
  },
  {
   "cell_type": "code",
   "execution_count": 15,
   "metadata": {},
   "outputs": [
    {
     "data": {
      "text/plain": [
       "[('Mo Brooks',\n",
       "  'Republican',\n",
       "  b'\"Brooks Joins Alabama Delegation in Voting Against Flawed Funding Bill\" http://t.co/3CwjIWYsNq'),\n",
       " ('Mo Brooks',\n",
       "  'Republican',\n",
       "  b'\"Brooks: Senate Democrats Allowing President to Give Americans\\xe2\\x80\\x99 Jobs to Illegals\" #securetheborder https://t.co/mZtEaX8xS6'),\n",
       " ('Mo Brooks',\n",
       "  'Republican',\n",
       "  b'\"NASA on the Square\" event this Sat. 11AM \\xe2\\x80\\x93 4PM. Stop by &amp; hear about the incredible work done in #AL05! @DowntownHSV http://t.co/R9zY8WMEpA'),\n",
       " ('Mo Brooks',\n",
       "  'Republican',\n",
       "  b'\"The trouble with Socialism is that eventually you run out of other people\\'s money.\" - Margaret Thatcher https://t.co/X97g7wzQwJ'),\n",
       " ('Mo Brooks',\n",
       "  'Republican',\n",
       "  b'\"The trouble with socialism is eventually you run out of other people\\'s money\" \\xe2\\x80\\x93 Thatcher. She\\'ll be sorely missed. http://t.co/Z8gBnDQUh8')]"
      ]
     },
     "execution_count": 15,
     "metadata": {},
     "output_type": "execute_result"
    }
   ],
   "source": [
    "#preview the results\n",
    "results[0:5]"
   ]
  },
  {
   "cell_type": "code",
   "execution_count": 16,
   "metadata": {},
   "outputs": [],
   "source": [
    "tweet_data = []\n",
    "\n",
    "# Now fill up tweet_data with sublists like we did on the convention speeches.\n",
    "# Note that this may take a bit of time, since we have a lot of tweets.\n",
    "\n",
    "#for each row in results, extract these columns\n",
    "for row in results:\n",
    "    candidate = row[0]  \n",
    "    party = row[1]\n",
    "    tweet_text = row[2]\n",
    "    \n",
    "    #if tweet is encoded as bytes\n",
    "    if isinstance(tweet_text, bytes):\n",
    "        #decode as string\n",
    "        tweet_text = tweet_text.decode('utf-8')\n",
    "    \n",
    "    #clean text using our preprocessing pipeline\n",
    "    cleaned_text = process_text(tweet_text, text_pipeline)\n",
    "    #append candidate, party, and cleaned text to tweet_data\n",
    "    tweet_data.append([candidate, party, cleaned_text])\n"
   ]
  },
  {
   "cell_type": "markdown",
   "metadata": {},
   "source": [
    "There are a lot of tweets here. Let's take a random sample and see how our classifer does. I'm guessing it won't be too great given the performance on the convention speeches..."
   ]
  },
  {
   "cell_type": "code",
   "execution_count": 17,
   "metadata": {},
   "outputs": [],
   "source": [
    "random.seed(20201015)\n",
    "\n",
    "tweet_data_sample = random.choices(tweet_data,k=10)"
   ]
  },
  {
   "cell_type": "code",
   "execution_count": 18,
   "metadata": {},
   "outputs": [
    {
     "data": {
      "text/plain": [
       "[['Daniel Webster',\n",
       "  'Republican',\n",
       "  ['couple',\n",
       "   'lakegov',\n",
       "   'officials',\n",
       "   'stopped',\n",
       "   'office',\n",
       "   'share',\n",
       "   'priorities',\n",
       "   'amp',\n",
       "   'provide',\n",
       "   'updates',\n",
       "   'community',\n",
       "   'httpstcoffjqezd5vz']],\n",
       " ['John Carter',\n",
       "  'Republican',\n",
       "  ['great',\n",
       "   'discussion',\n",
       "   'bluelivesmatter',\n",
       "   'amp',\n",
       "   'veterans',\n",
       "   'w',\n",
       "   'timconstantine1',\n",
       "   'today',\n",
       "   'rncincle',\n",
       "   'iendorsetrumppence16',\n",
       "   'httpstcorgmakt1ut4']],\n",
       " ['Bill Johnson',\n",
       "  'Republican',\n",
       "  ['opening',\n",
       "   'mornings',\n",
       "   'drug',\n",
       "   'abuse',\n",
       "   'addiction',\n",
       "   'prevention',\n",
       "   'summit',\n",
       "   'jackson',\n",
       "   'county',\n",
       "   'httpstco6xujf97afc']],\n",
       " ['Debra Haaland',\n",
       "  'Democratic',\n",
       "  ['proud',\n",
       "   'endorsed',\n",
       "   'former',\n",
       "   'nm',\n",
       "   'lt',\n",
       "   'gov',\n",
       "   'amp',\n",
       "   'champion',\n",
       "   'women',\n",
       "   'healthcare',\n",
       "   'education',\n",
       "   'amp',\n",
       "   'democrats',\n",
       "   'dddnm',\n",
       "   'nmpol',\n",
       "   'deb4congress',\n",
       "   'httpstco0ke8dc76ze']],\n",
       " ['Frank Pallone',\n",
       "  'Democratic',\n",
       "  ['congressman',\n",
       "   'pallone',\n",
       "   'successfully',\n",
       "   'worked',\n",
       "   'stop',\n",
       "   'ocean',\n",
       "   'dumping',\n",
       "   'offshore',\n",
       "   'oil',\n",
       "   'gas',\n",
       "   'drilling',\n",
       "   'stickwithfrank',\n",
       "   'httptcobwflyg9dzj']],\n",
       " ['John Shimkus',\n",
       "  'Republican',\n",
       "  ['thoughts',\n",
       "   'prayers',\n",
       "   'go',\n",
       "   'families',\n",
       "   'fallen',\n",
       "   'marines',\n",
       "   'people',\n",
       "   'chattanooga']],\n",
       " ['Donald Payne',\n",
       "  'Democratic',\n",
       "  ['spoke',\n",
       "   'wmbctv',\n",
       "   'gun',\n",
       "   'violence',\n",
       "   'prevention',\n",
       "   'forum',\n",
       "   'amp',\n",
       "   'need',\n",
       "   'continue',\n",
       "   'fight',\n",
       "   'washington',\n",
       "   'watch',\n",
       "   'httpstcoxeboy3bcex']],\n",
       " ['Austin Scott',\n",
       "  'Republican',\n",
       "  ['fy18ndaa',\n",
       "   'funds',\n",
       "   'nation',\n",
       "   '’',\n",
       "   'military',\n",
       "   'addresses',\n",
       "   'readiness',\n",
       "   'crisis',\n",
       "   'confronts',\n",
       "   'aggression',\n",
       "   'addresses',\n",
       "   'threats',\n",
       "   'rebuilds',\n",
       "   'military',\n",
       "   'protects',\n",
       "   'force',\n",
       "   'structure',\n",
       "   'amp',\n",
       "   'provides',\n",
       "   'military',\n",
       "   'families',\n",
       "   'amp',\n",
       "   'warfighters']],\n",
       " ['Tim Burchett',\n",
       "  'Republican',\n",
       "  ['yes', 'yes', 'voteburchett', 'httpstcozlabwbpstf']],\n",
       " ['Donald Payne',\n",
       "  'Democratic',\n",
       "  ['listening',\n",
       "   'tsa',\n",
       "   'administrator',\n",
       "   'neffenger',\n",
       "   'testify',\n",
       "   'plan',\n",
       "   'deal',\n",
       "   'long',\n",
       "   'tsa',\n",
       "   'lines',\n",
       "   'wait',\n",
       "   'times',\n",
       "   'httpstcoeaegenv2jx']]]"
      ]
     },
     "execution_count": 18,
     "metadata": {},
     "output_type": "execute_result"
    }
   ],
   "source": [
    "tweet_data_sample"
   ]
  },
  {
   "cell_type": "code",
   "execution_count": 19,
   "metadata": {},
   "outputs": [
    {
     "name": "stdout",
     "output_type": "stream",
     "text": [
      "Here's our (cleaned) tweet: ['couple', 'lakegov', 'officials', 'stopped', 'office', 'share', 'priorities', 'amp', 'provide', 'updates', 'community', 'httpstcoffjqezd5vz']\n",
      "Actual party is Republican and our classifier says Republican.\n",
      "\n",
      "Here's our (cleaned) tweet: ['great', 'discussion', 'bluelivesmatter', 'amp', 'veterans', 'w', 'timconstantine1', 'today', 'rncincle', 'iendorsetrumppence16', 'httpstcorgmakt1ut4']\n",
      "Actual party is Republican and our classifier says Republican.\n",
      "\n",
      "Here's our (cleaned) tweet: ['opening', 'mornings', 'drug', 'abuse', 'addiction', 'prevention', 'summit', 'jackson', 'county', 'httpstco6xujf97afc']\n",
      "Actual party is Republican and our classifier says Democratic.\n",
      "\n",
      "Here's our (cleaned) tweet: ['proud', 'endorsed', 'former', 'nm', 'lt', 'gov', 'amp', 'champion', 'women', 'healthcare', 'education', 'amp', 'democrats', 'dddnm', 'nmpol', 'deb4congress', 'httpstco0ke8dc76ze']\n",
      "Actual party is Democratic and our classifier says Republican.\n",
      "\n",
      "Here's our (cleaned) tweet: ['congressman', 'pallone', 'successfully', 'worked', 'stop', 'ocean', 'dumping', 'offshore', 'oil', 'gas', 'drilling', 'stickwithfrank', 'httptcobwflyg9dzj']\n",
      "Actual party is Democratic and our classifier says Republican.\n",
      "\n",
      "Here's our (cleaned) tweet: ['thoughts', 'prayers', 'go', 'families', 'fallen', 'marines', 'people', 'chattanooga']\n",
      "Actual party is Republican and our classifier says Republican.\n",
      "\n",
      "Here's our (cleaned) tweet: ['spoke', 'wmbctv', 'gun', 'violence', 'prevention', 'forum', 'amp', 'need', 'continue', 'fight', 'washington', 'watch', 'httpstcoxeboy3bcex']\n",
      "Actual party is Democratic and our classifier says Republican.\n",
      "\n",
      "Here's our (cleaned) tweet: ['fy18ndaa', 'funds', 'nation', '’', 'military', 'addresses', 'readiness', 'crisis', 'confronts', 'aggression', 'addresses', 'threats', 'rebuilds', 'military', 'protects', 'force', 'structure', 'amp', 'provides', 'military', 'families', 'amp', 'warfighters']\n",
      "Actual party is Republican and our classifier says Republican.\n",
      "\n",
      "Here's our (cleaned) tweet: ['yes', 'yes', 'voteburchett', 'httpstcozlabwbpstf']\n",
      "Actual party is Republican and our classifier says Democratic.\n",
      "\n",
      "Here's our (cleaned) tweet: ['listening', 'tsa', 'administrator', 'neffenger', 'testify', 'plan', 'deal', 'long', 'tsa', 'lines', 'wait', 'times', 'httpstcoeaegenv2jx']\n",
      "Actual party is Democratic and our classifier says Democratic.\n",
      "\n"
     ]
    }
   ],
   "source": [
    "for candidate, party, tweet in tweet_data_sample:\n",
    "    #initialize dictionary to hold tweet features\n",
    "    tweet_features = {}  \n",
    "    \n",
    "    #for each token in tweet, set as a feature in the tweets dictionary\n",
    "    for token in tweet:\n",
    "        tweet_features[token] = True\n",
    "    \n",
    "    # use our classifier to predict party\n",
    "    estimated_party = classifier.classify(tweet_features)\n",
    "    \n",
    "    # Print the results\n",
    "    print(f\"Here's our (cleaned) tweet: {tweet}\")\n",
    "    print(f\"Actual party is {party} and our classifier says {estimated_party}.\")\n",
    "    print(\"\")"
   ]
  },
  {
   "cell_type": "markdown",
   "metadata": {},
   "source": [
    "Now that we've looked at it some, let's score a bunch and see how we're doing.\n",
    "\n",
    "Modified to score all"
   ]
  },
  {
   "cell_type": "code",
   "execution_count": 20,
   "metadata": {},
   "outputs": [],
   "source": [
    "# dictionary of counts by actual party and estimated party. \n",
    "# first key is actual, second is estimated\n",
    "\n",
    "\n",
    "# initialize dictionary to hold the counts\n",
    "results = defaultdict(lambda: defaultdict(int))\n",
    "\n",
    "for candidate, party, tweet_list in tweet_data:\n",
    "    #initialize empty list to hold tweet features\n",
    "    tweet_features = {}  \n",
    "    \n",
    "    # join list of words into one tweet\n",
    "    tweet = ' '.join(tweet_list)\n",
    "    \n",
    "    # split into tokens based on whitespace\n",
    "    tokens = tweet.split() \n",
    "    \n",
    "    # For each token, set the feature to True if it's present in the tweet\n",
    "    for token in tokens:\n",
    "        tweet_features[token] = True\n",
    "    \n",
    "    # predict party using our nb classifier\n",
    "    estimated_party = classifier.classify(tweet_features)\n",
    "    \n",
    "    # increment counts for the actual party as well as the predicted party\n",
    "    results[party][estimated_party] += 1\n"
   ]
  },
  {
   "cell_type": "code",
   "execution_count": 21,
   "metadata": {},
   "outputs": [
    {
     "data": {
      "text/plain": [
       "defaultdict(<function __main__.<lambda>()>,\n",
       "            {'Republican': defaultdict(int,\n",
       "                         {'Democratic': 75737, 'Republican': 212794}),\n",
       "             'Democratic': defaultdict(int,\n",
       "                         {'Republican': 283728, 'Democratic': 92397})})"
      ]
     },
     "execution_count": 21,
     "metadata": {},
     "output_type": "execute_result"
    }
   ],
   "source": [
    "results"
   ]
  },
  {
   "cell_type": "markdown",
   "metadata": {},
   "source": [
    "Visualize Results in Confusion Matrix"
   ]
  },
  {
   "cell_type": "code",
   "execution_count": 22,
   "metadata": {},
   "outputs": [
    {
     "data": {
      "image/png": "[encoded data removed]",
      "text/plain": [
       "<Figure size 720x576 with 2 Axes>"
      ]
     },
     "metadata": {
      "needs_background": "light"
     },
     "output_type": "display_data"
    }
   ],
   "source": [
    "import pandas as pd\n",
    "import seaborn as sns\n",
    "import matplotlib.pyplot as plt\n",
    "\n",
    "#convert results to dataframe for confusion matrix\n",
    "confusion_df = pd.DataFrame(results).T.fillna(0)\n",
    "\n",
    "#get actual totals for visualization\n",
    "confusion_df['Total'] = confusion_df.sum(axis=1)\n",
    "\n",
    "\n",
    "#plot confusion matrix\n",
    "plt.figure(figsize=(10, 8))\n",
    "sns.heatmap(confusion_df, annot=True, fmt='g', cmap='Blues')\n",
    "plt.xlabel('Predicted Party')\n",
    "plt.ylabel('Actual')\n",
    "plt.title('Confusion Matrix')\n",
    "plt.show()"
   ]
  },
  {
   "cell_type": "markdown",
   "metadata": {},
   "source": [
    "### Reflections\n",
    "\n",
    "_Write a little about what you see in the results_ \n",
    "\n",
    "A much higher proportion of the tweets were classified as Republican than Democratic, even though there were more tweets that were actually Democratic. This may be because the most informative features are associated with the Republican party, which means there is an inbalance that will likely bias the model to classify more tweets as Republican. "
   ]
  }
 ],
 "metadata": {
  "kernelspec": {
   "display_name": "Python 3",
   "language": "python",
   "name": "python3"
  },
  "language_info": {
   "codemirror_mode": {
    "name": "ipython",
    "version": 3
   },
   "file_extension": ".py",
   "mimetype": "text/x-python",
   "name": "python",
   "nbconvert_exporter": "python",
   "pygments_lexer": "ipython3",
   "version": "3.8.8"
  }
 },
 "nbformat": 4,
 "nbformat_minor": 4
}
